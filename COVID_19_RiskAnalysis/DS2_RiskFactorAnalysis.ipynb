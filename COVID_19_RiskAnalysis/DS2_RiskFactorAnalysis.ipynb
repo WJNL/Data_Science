{
  "nbformat": 4,
  "nbformat_minor": 0,
  "metadata": {
    "colab": {
      "name": "DS2_RiskFactorAnalysis.ipynb",
      "provenance": [],
      "collapsed_sections": []
    },
    "kernelspec": {
      "name": "python3",
      "display_name": "Python 3"
    }
  },
  "cells": [
    {
      "cell_type": "markdown",
      "metadata": {
        "id": "US4v_FgerzHF",
        "colab_type": "text"
      },
      "source": [
        "# COVID Data"
      ]
    },
    {
      "cell_type": "markdown",
      "metadata": {
        "id": "kXEluPUOGWKJ",
        "colab_type": "text"
      },
      "source": [
        "Project from https://www.kaggle.com/sixteenpython/covid-19-temperature-air-travel-transmission/notebook"
      ]
    },
    {
      "cell_type": "code",
      "metadata": {
        "id": "uDVwsOKp4aJr",
        "colab_type": "code",
        "colab": {}
      },
      "source": [
        "import numpy as np # linear algebra\n",
        "import pandas as pd # data processing, CSV file I/O (e.g. pd.read_csv)\n",
        "import datetime as dt\n",
        "import seaborn as sns\n",
        "import matplotlib.pyplot as plt\n",
        "sns.set(style=\"white\", color_codes=True)\n",
        "import warnings # current version of seaborn generates a bunch of warnings that we'll ignore\n",
        "warnings.filterwarnings(\"ignore\")\n",
        "\n",
        "import plotly \n",
        "import plotly.graph_objs as go #importing graphical objects\n",
        "from plotly.offline import download_plotlyjs, init_notebook_mode, plot, iplot"
      ],
      "execution_count": 0,
      "outputs": []
    },
    {
      "cell_type": "markdown",
      "metadata": {
        "id": "ZboOIYONsY7D",
        "colab_type": "text"
      },
      "source": [
        "import data"
      ]
    },
    {
      "cell_type": "code",
      "metadata": {
        "id": "QgG2evvv4jbN",
        "colab_type": "code",
        "outputId": "e97e8edf-7269-4f01-e56e-a8b7647b7087",
        "colab": {
          "base_uri": "https://localhost:8080/",
          "height": 204
        }
      },
      "source": [
        "#full_table = pd.read_csv('../input/corona-virus-report/covid_19_clean_complete.csv', parse_dates=['Date'])\n",
        "\n",
        "full_table = pd.read_csv('covid_19_clean_complete.csv', parse_dates=['Date'])\n",
        "full_table['Date'] = pd.to_datetime(full_table['Date'])\n",
        "full_table.head()"
      ],
      "execution_count": 4,
      "outputs": [
        {
          "output_type": "execute_result",
          "data": {
            "text/html": [
              "<div>\n",
              "<style scoped>\n",
              "    .dataframe tbody tr th:only-of-type {\n",
              "        vertical-align: middle;\n",
              "    }\n",
              "\n",
              "    .dataframe tbody tr th {\n",
              "        vertical-align: top;\n",
              "    }\n",
              "\n",
              "    .dataframe thead th {\n",
              "        text-align: right;\n",
              "    }\n",
              "</style>\n",
              "<table border=\"1\" class=\"dataframe\">\n",
              "  <thead>\n",
              "    <tr style=\"text-align: right;\">\n",
              "      <th></th>\n",
              "      <th>Province/State</th>\n",
              "      <th>Country/Region</th>\n",
              "      <th>Lat</th>\n",
              "      <th>Long</th>\n",
              "      <th>Date</th>\n",
              "      <th>Confirmed</th>\n",
              "      <th>Deaths</th>\n",
              "      <th>Recovered</th>\n",
              "    </tr>\n",
              "  </thead>\n",
              "  <tbody>\n",
              "    <tr>\n",
              "      <th>0</th>\n",
              "      <td>NaN</td>\n",
              "      <td>Afghanistan</td>\n",
              "      <td>33.0000</td>\n",
              "      <td>65.0000</td>\n",
              "      <td>2020-01-22</td>\n",
              "      <td>0</td>\n",
              "      <td>0</td>\n",
              "      <td>0</td>\n",
              "    </tr>\n",
              "    <tr>\n",
              "      <th>1</th>\n",
              "      <td>NaN</td>\n",
              "      <td>Albania</td>\n",
              "      <td>41.1533</td>\n",
              "      <td>20.1683</td>\n",
              "      <td>2020-01-22</td>\n",
              "      <td>0</td>\n",
              "      <td>0</td>\n",
              "      <td>0</td>\n",
              "    </tr>\n",
              "    <tr>\n",
              "      <th>2</th>\n",
              "      <td>NaN</td>\n",
              "      <td>Algeria</td>\n",
              "      <td>28.0339</td>\n",
              "      <td>1.6596</td>\n",
              "      <td>2020-01-22</td>\n",
              "      <td>0</td>\n",
              "      <td>0</td>\n",
              "      <td>0</td>\n",
              "    </tr>\n",
              "    <tr>\n",
              "      <th>3</th>\n",
              "      <td>NaN</td>\n",
              "      <td>Andorra</td>\n",
              "      <td>42.5063</td>\n",
              "      <td>1.5218</td>\n",
              "      <td>2020-01-22</td>\n",
              "      <td>0</td>\n",
              "      <td>0</td>\n",
              "      <td>0</td>\n",
              "    </tr>\n",
              "    <tr>\n",
              "      <th>4</th>\n",
              "      <td>NaN</td>\n",
              "      <td>Angola</td>\n",
              "      <td>-11.2027</td>\n",
              "      <td>17.8739</td>\n",
              "      <td>2020-01-22</td>\n",
              "      <td>0</td>\n",
              "      <td>0</td>\n",
              "      <td>0</td>\n",
              "    </tr>\n",
              "  </tbody>\n",
              "</table>\n",
              "</div>"
            ],
            "text/plain": [
              "  Province/State Country/Region      Lat  ...  Confirmed Deaths  Recovered\n",
              "0            NaN    Afghanistan  33.0000  ...          0      0          0\n",
              "1            NaN        Albania  41.1533  ...          0      0          0\n",
              "2            NaN        Algeria  28.0339  ...          0      0          0\n",
              "3            NaN        Andorra  42.5063  ...          0      0          0\n",
              "4            NaN         Angola -11.2027  ...          0      0          0\n",
              "\n",
              "[5 rows x 8 columns]"
            ]
          },
          "metadata": {
            "tags": []
          },
          "execution_count": 4
        }
      ]
    },
    {
      "cell_type": "markdown",
      "metadata": {
        "id": "bylsULl8sAgl",
        "colab_type": "text"
      },
      "source": [
        "## Pre-process"
      ]
    },
    {
      "cell_type": "code",
      "metadata": {
        "id": "Q2hKNqSJr_QM",
        "colab_type": "code",
        "colab": {}
      },
      "source": [
        "# Defining COVID-19 cases as per classifications \n",
        "cases = ['Confirmed', 'Deaths', 'Recovered', 'Active']\n",
        "\n",
        "# Defining Active Case: Active Case = confirmed - deaths - recovered\n",
        "full_table['Active'] = full_table['Confirmed'] - full_table['Deaths'] - full_table['Recovered']\n",
        "\n",
        "# Renaming Mainland china as China in the data table\n",
        "full_table['Country/Region'] = full_table['Country/Region'].replace('Mainland China', 'China')\n",
        "\n",
        "# filling missing values \n",
        "full_table[['Province/State']] = full_table[['Province/State']].fillna('')\n",
        "full_table[cases] = full_table[cases].fillna(0)\n",
        "\n",
        "# cases in the ships\n",
        "ship = full_table[full_table['Province/State'].str.contains('Grand Princess')|full_table['Country/Region'].str.contains('Cruise Ship')]\n",
        "\n",
        "# china and the row\n",
        "china = full_table[full_table['Country/Region']=='China']\n",
        "row = full_table[full_table['Country/Region']!='China']\n",
        "\n",
        "# latest\n",
        "full_latest = full_table[full_table['Date'] == max(full_table['Date'])].reset_index()\n",
        "china_latest = full_latest[full_latest['Country/Region']=='China']\n",
        "row_latest = full_latest[full_latest['Country/Region']!='China']\n",
        "\n",
        "# latest condensed\n",
        "full_latest_grouped = full_latest.groupby('Country/Region')['Confirmed', 'Deaths', 'Recovered', 'Active'].sum().reset_index()\n",
        "china_latest_grouped = china_latest.groupby('Province/State')['Confirmed', 'Deaths', 'Recovered', 'Active'].sum().reset_index()\n",
        "row_latest_grouped = row_latest.groupby('Country/Region')['Confirmed', 'Deaths', 'Recovered', 'Active'].sum().reset_index()\n"
      ],
      "execution_count": 0,
      "outputs": []
    },
    {
      "cell_type": "markdown",
      "metadata": {
        "id": "H8xwKVJAQL79",
        "colab_type": "text"
      },
      "source": [
        "## Statistical Analysis"
      ]
    },
    {
      "cell_type": "markdown",
      "metadata": {
        "id": "CeaapIWIVajk",
        "colab_type": "text"
      },
      "source": [
        "chose the month which has max confirmed case"
      ]
    },
    {
      "cell_type": "code",
      "metadata": {
        "id": "nf1GykQprxwI",
        "colab_type": "code",
        "outputId": "b43bd62b-02ee-4551-b3e6-318aedb0701a",
        "colab": {
          "base_uri": "https://localhost:8080/",
          "height": 103
        }
      },
      "source": [
        "#sort data by confirmed cases of month\n",
        "monTable = full_table.groupby(full_table['Date'].dt.strftime('%B'))['Confirmed', 'Deaths', 'Recovered', 'Active'].sum().sort_values(by='Confirmed', ascending=False).reset_index()\n",
        "monTable.style.background_gradient(cmap='Reds')"
      ],
      "execution_count": 6,
      "outputs": [
        {
          "output_type": "execute_result",
          "data": {
            "text/html": [
              "<style  type=\"text/css\" >\n",
              "    #T_79341514_8e13_11ea_9cef_0242ac1c0002row0_col1 {\n",
              "            background-color:  #67000d;\n",
              "            color:  #f1f1f1;\n",
              "        }    #T_79341514_8e13_11ea_9cef_0242ac1c0002row0_col2 {\n",
              "            background-color:  #67000d;\n",
              "            color:  #f1f1f1;\n",
              "        }    #T_79341514_8e13_11ea_9cef_0242ac1c0002row0_col3 {\n",
              "            background-color:  #67000d;\n",
              "            color:  #f1f1f1;\n",
              "        }    #T_79341514_8e13_11ea_9cef_0242ac1c0002row0_col4 {\n",
              "            background-color:  #67000d;\n",
              "            color:  #f1f1f1;\n",
              "        }    #T_79341514_8e13_11ea_9cef_0242ac1c0002row1_col1 {\n",
              "            background-color:  #fcc3ab;\n",
              "            color:  #000000;\n",
              "        }    #T_79341514_8e13_11ea_9cef_0242ac1c0002row1_col2 {\n",
              "            background-color:  #fed9c9;\n",
              "            color:  #000000;\n",
              "        }    #T_79341514_8e13_11ea_9cef_0242ac1c0002row1_col3 {\n",
              "            background-color:  #fdd5c4;\n",
              "            color:  #000000;\n",
              "        }    #T_79341514_8e13_11ea_9cef_0242ac1c0002row1_col4 {\n",
              "            background-color:  #fcb69b;\n",
              "            color:  #000000;\n",
              "        }    #T_79341514_8e13_11ea_9cef_0242ac1c0002row2_col1 {\n",
              "            background-color:  #fff5f0;\n",
              "            color:  #000000;\n",
              "        }    #T_79341514_8e13_11ea_9cef_0242ac1c0002row2_col2 {\n",
              "            background-color:  #fff5f0;\n",
              "            color:  #000000;\n",
              "        }    #T_79341514_8e13_11ea_9cef_0242ac1c0002row2_col3 {\n",
              "            background-color:  #fff5f0;\n",
              "            color:  #000000;\n",
              "        }    #T_79341514_8e13_11ea_9cef_0242ac1c0002row2_col4 {\n",
              "            background-color:  #fff5f0;\n",
              "            color:  #000000;\n",
              "        }</style><table id=\"T_79341514_8e13_11ea_9cef_0242ac1c0002\" ><thead>    <tr>        <th class=\"blank level0\" ></th>        <th class=\"col_heading level0 col0\" >Date</th>        <th class=\"col_heading level0 col1\" >Confirmed</th>        <th class=\"col_heading level0 col2\" >Deaths</th>        <th class=\"col_heading level0 col3\" >Recovered</th>        <th class=\"col_heading level0 col4\" >Active</th>    </tr></thead><tbody>\n",
              "                <tr>\n",
              "                        <th id=\"T_79341514_8e13_11ea_9cef_0242ac1c0002level0_row0\" class=\"row_heading level0 row0\" >0</th>\n",
              "                        <td id=\"T_79341514_8e13_11ea_9cef_0242ac1c0002row0_col0\" class=\"data row0 col0\" >March</td>\n",
              "                        <td id=\"T_79341514_8e13_11ea_9cef_0242ac1c0002row0_col1\" class=\"data row0 col1\" >7254206</td>\n",
              "                        <td id=\"T_79341514_8e13_11ea_9cef_0242ac1c0002row0_col2\" class=\"data row0 col2\" >306521</td>\n",
              "                        <td id=\"T_79341514_8e13_11ea_9cef_0242ac1c0002row0_col3\" class=\"data row0 col3\" >2361641</td>\n",
              "                        <td id=\"T_79341514_8e13_11ea_9cef_0242ac1c0002row0_col4\" class=\"data row0 col4\" >4586044</td>\n",
              "            </tr>\n",
              "            <tr>\n",
              "                        <th id=\"T_79341514_8e13_11ea_9cef_0242ac1c0002level0_row1\" class=\"row_heading level0 row1\" >1</th>\n",
              "                        <td id=\"T_79341514_8e13_11ea_9cef_0242ac1c0002row1_col0\" class=\"data row1 col0\" >February</td>\n",
              "                        <td id=\"T_79341514_8e13_11ea_9cef_0242ac1c0002row1_col1\" class=\"data row1 col1\" >1673291</td>\n",
              "                        <td id=\"T_79341514_8e13_11ea_9cef_0242ac1c0002row1_col2\" class=\"data row1 col2\" >46898</td>\n",
              "                        <td id=\"T_79341514_8e13_11ea_9cef_0242ac1c0002row1_col3\" class=\"data row1 col3\" >380749</td>\n",
              "                        <td id=\"T_79341514_8e13_11ea_9cef_0242ac1c0002row1_col4\" class=\"data row1 col4\" >1245644</td>\n",
              "            </tr>\n",
              "            <tr>\n",
              "                        <th id=\"T_79341514_8e13_11ea_9cef_0242ac1c0002level0_row2\" class=\"row_heading level0 row2\" >2</th>\n",
              "                        <td id=\"T_79341514_8e13_11ea_9cef_0242ac1c0002row2_col0\" class=\"data row2 col0\" >January</td>\n",
              "                        <td id=\"T_79341514_8e13_11ea_9cef_0242ac1c0002row2_col1\" class=\"data row2 col1\" >38534</td>\n",
              "                        <td id=\"T_79341514_8e13_11ea_9cef_0242ac1c0002row2_col2\" class=\"data row2 col2\" >889</td>\n",
              "                        <td id=\"T_79341514_8e13_11ea_9cef_0242ac1c0002row2_col3\" class=\"data row2 col3\" >844</td>\n",
              "                        <td id=\"T_79341514_8e13_11ea_9cef_0242ac1c0002row2_col4\" class=\"data row2 col4\" >36801</td>\n",
              "            </tr>\n",
              "    </tbody></table>"
            ],
            "text/plain": [
              "<pandas.io.formats.style.Styler at 0x7f0dd0918f28>"
            ]
          },
          "metadata": {
            "tags": []
          },
          "execution_count": 6
        }
      ]
    },
    {
      "cell_type": "markdown",
      "metadata": {
        "id": "SG0I_Ddkx3NF",
        "colab_type": "text"
      },
      "source": [
        "get the March data"
      ]
    },
    {
      "cell_type": "code",
      "metadata": {
        "id": "SQkQoZaYwEIS",
        "colab_type": "code",
        "outputId": "bd27938e-cfda-4454-c201-744519c88478",
        "colab": {
          "base_uri": "https://localhost:8080/",
          "height": 222
        }
      },
      "source": [
        "#filter data\n",
        "df = full_table\n",
        "df = df[df['Date'].dt.month.between(3,4)]\n",
        "print(df.Confirmed.sum())\n",
        "df.head()"
      ],
      "execution_count": 7,
      "outputs": [
        {
          "output_type": "stream",
          "text": [
            "7254206\n"
          ],
          "name": "stdout"
        },
        {
          "output_type": "execute_result",
          "data": {
            "text/html": [
              "<div>\n",
              "<style scoped>\n",
              "    .dataframe tbody tr th:only-of-type {\n",
              "        vertical-align: middle;\n",
              "    }\n",
              "\n",
              "    .dataframe tbody tr th {\n",
              "        vertical-align: top;\n",
              "    }\n",
              "\n",
              "    .dataframe thead th {\n",
              "        text-align: right;\n",
              "    }\n",
              "</style>\n",
              "<table border=\"1\" class=\"dataframe\">\n",
              "  <thead>\n",
              "    <tr style=\"text-align: right;\">\n",
              "      <th></th>\n",
              "      <th>Province/State</th>\n",
              "      <th>Country/Region</th>\n",
              "      <th>Lat</th>\n",
              "      <th>Long</th>\n",
              "      <th>Date</th>\n",
              "      <th>Confirmed</th>\n",
              "      <th>Deaths</th>\n",
              "      <th>Recovered</th>\n",
              "      <th>Active</th>\n",
              "    </tr>\n",
              "  </thead>\n",
              "  <tbody>\n",
              "    <tr>\n",
              "      <th>9828</th>\n",
              "      <td></td>\n",
              "      <td>Afghanistan</td>\n",
              "      <td>33.0000</td>\n",
              "      <td>65.0000</td>\n",
              "      <td>2020-03-01</td>\n",
              "      <td>1</td>\n",
              "      <td>0</td>\n",
              "      <td>0</td>\n",
              "      <td>1</td>\n",
              "    </tr>\n",
              "    <tr>\n",
              "      <th>9829</th>\n",
              "      <td></td>\n",
              "      <td>Albania</td>\n",
              "      <td>41.1533</td>\n",
              "      <td>20.1683</td>\n",
              "      <td>2020-03-01</td>\n",
              "      <td>0</td>\n",
              "      <td>0</td>\n",
              "      <td>0</td>\n",
              "      <td>0</td>\n",
              "    </tr>\n",
              "    <tr>\n",
              "      <th>9830</th>\n",
              "      <td></td>\n",
              "      <td>Algeria</td>\n",
              "      <td>28.0339</td>\n",
              "      <td>1.6596</td>\n",
              "      <td>2020-03-01</td>\n",
              "      <td>1</td>\n",
              "      <td>0</td>\n",
              "      <td>0</td>\n",
              "      <td>1</td>\n",
              "    </tr>\n",
              "    <tr>\n",
              "      <th>9831</th>\n",
              "      <td></td>\n",
              "      <td>Andorra</td>\n",
              "      <td>42.5063</td>\n",
              "      <td>1.5218</td>\n",
              "      <td>2020-03-01</td>\n",
              "      <td>0</td>\n",
              "      <td>0</td>\n",
              "      <td>0</td>\n",
              "      <td>0</td>\n",
              "    </tr>\n",
              "    <tr>\n",
              "      <th>9832</th>\n",
              "      <td></td>\n",
              "      <td>Angola</td>\n",
              "      <td>-11.2027</td>\n",
              "      <td>17.8739</td>\n",
              "      <td>2020-03-01</td>\n",
              "      <td>0</td>\n",
              "      <td>0</td>\n",
              "      <td>0</td>\n",
              "      <td>0</td>\n",
              "    </tr>\n",
              "  </tbody>\n",
              "</table>\n",
              "</div>"
            ],
            "text/plain": [
              "     Province/State Country/Region      Lat  ...  Deaths Recovered  Active\n",
              "9828                   Afghanistan  33.0000  ...       0         0       1\n",
              "9829                       Albania  41.1533  ...       0         0       0\n",
              "9830                       Algeria  28.0339  ...       0         0       1\n",
              "9831                       Andorra  42.5063  ...       0         0       0\n",
              "9832                        Angola -11.2027  ...       0         0       0\n",
              "\n",
              "[5 rows x 9 columns]"
            ]
          },
          "metadata": {
            "tags": []
          },
          "execution_count": 7
        }
      ]
    },
    {
      "cell_type": "markdown",
      "metadata": {
        "id": "Xs1rTkkDTBOf",
        "colab_type": "text"
      },
      "source": [
        "Sort countries by Confirmed"
      ]
    },
    {
      "cell_type": "code",
      "metadata": {
        "id": "rWlXWLwwMzso",
        "colab_type": "code",
        "outputId": "35103d99-2353-497e-9d74-785a8dade068",
        "colab": {
          "base_uri": "https://localhost:8080/",
          "height": 271
        }
      },
      "source": [
        "df = df.groupby('Country/Region')['Confirmed', 'Deaths', 'Recovered', 'Active'].sum().reset_index()\n",
        "march_accumulate = df.sort_values(by='Confirmed', ascending=False).reset_index(drop=True)\n",
        "march = march_accumulate.head(11)\n",
        "march.style.background_gradient(cmap='Reds')"
      ],
      "execution_count": 8,
      "outputs": [
        {
          "output_type": "execute_result",
          "data": {
            "text/html": [
              "<style  type=\"text/css\" >\n",
              "    #T_7941461c_8e13_11ea_9cef_0242ac1c0002row0_col1 {\n",
              "            background-color:  #67000d;\n",
              "            color:  #f1f1f1;\n",
              "        }    #T_7941461c_8e13_11ea_9cef_0242ac1c0002row0_col2 {\n",
              "            background-color:  #69000d;\n",
              "            color:  #f1f1f1;\n",
              "        }    #T_7941461c_8e13_11ea_9cef_0242ac1c0002row0_col3 {\n",
              "            background-color:  #67000d;\n",
              "            color:  #f1f1f1;\n",
              "        }    #T_7941461c_8e13_11ea_9cef_0242ac1c0002row0_col4 {\n",
              "            background-color:  #fb7757;\n",
              "            color:  #000000;\n",
              "        }    #T_7941461c_8e13_11ea_9cef_0242ac1c0002row1_col1 {\n",
              "            background-color:  #fc8969;\n",
              "            color:  #000000;\n",
              "        }    #T_7941461c_8e13_11ea_9cef_0242ac1c0002row1_col2 {\n",
              "            background-color:  #67000d;\n",
              "            color:  #f1f1f1;\n",
              "        }    #T_7941461c_8e13_11ea_9cef_0242ac1c0002row1_col3 {\n",
              "            background-color:  #ffebe2;\n",
              "            color:  #000000;\n",
              "        }    #T_7941461c_8e13_11ea_9cef_0242ac1c0002row1_col4 {\n",
              "            background-color:  #67000d;\n",
              "            color:  #f1f1f1;\n",
              "        }    #T_7941461c_8e13_11ea_9cef_0242ac1c0002row2_col1 {\n",
              "            background-color:  #fcae92;\n",
              "            color:  #000000;\n",
              "        }    #T_7941461c_8e13_11ea_9cef_0242ac1c0002row2_col2 {\n",
              "            background-color:  #fee3d7;\n",
              "            color:  #000000;\n",
              "        }    #T_7941461c_8e13_11ea_9cef_0242ac1c0002row2_col3 {\n",
              "            background-color:  #fff5f0;\n",
              "            color:  #000000;\n",
              "        }    #T_7941461c_8e13_11ea_9cef_0242ac1c0002row2_col4 {\n",
              "            background-color:  #9a0c14;\n",
              "            color:  #f1f1f1;\n",
              "        }    #T_7941461c_8e13_11ea_9cef_0242ac1c0002row3_col1 {\n",
              "            background-color:  #fdc6b0;\n",
              "            color:  #000000;\n",
              "        }    #T_7941461c_8e13_11ea_9cef_0242ac1c0002row3_col2 {\n",
              "            background-color:  #fc8969;\n",
              "            color:  #000000;\n",
              "        }    #T_7941461c_8e13_11ea_9cef_0242ac1c0002row3_col3 {\n",
              "            background-color:  #ffefe8;\n",
              "            color:  #000000;\n",
              "        }    #T_7941461c_8e13_11ea_9cef_0242ac1c0002row3_col4 {\n",
              "            background-color:  #f85f43;\n",
              "            color:  #000000;\n",
              "        }    #T_7941461c_8e13_11ea_9cef_0242ac1c0002row4_col1 {\n",
              "            background-color:  #fdd5c4;\n",
              "            color:  #000000;\n",
              "        }    #T_7941461c_8e13_11ea_9cef_0242ac1c0002row4_col2 {\n",
              "            background-color:  #fff4ef;\n",
              "            color:  #000000;\n",
              "        }    #T_7941461c_8e13_11ea_9cef_0242ac1c0002row4_col3 {\n",
              "            background-color:  #fff2eb;\n",
              "            color:  #000000;\n",
              "        }    #T_7941461c_8e13_11ea_9cef_0242ac1c0002row4_col4 {\n",
              "            background-color:  #fb7555;\n",
              "            color:  #000000;\n",
              "        }    #T_7941461c_8e13_11ea_9cef_0242ac1c0002row5_col1 {\n",
              "            background-color:  #fdd7c6;\n",
              "            color:  #000000;\n",
              "        }    #T_7941461c_8e13_11ea_9cef_0242ac1c0002row5_col2 {\n",
              "            background-color:  #fcad90;\n",
              "            color:  #000000;\n",
              "        }    #T_7941461c_8e13_11ea_9cef_0242ac1c0002row5_col3 {\n",
              "            background-color:  #fee8de;\n",
              "            color:  #000000;\n",
              "        }    #T_7941461c_8e13_11ea_9cef_0242ac1c0002row5_col4 {\n",
              "            background-color:  #fcb499;\n",
              "            color:  #000000;\n",
              "        }    #T_7941461c_8e13_11ea_9cef_0242ac1c0002row6_col1 {\n",
              "            background-color:  #fee4d8;\n",
              "            color:  #000000;\n",
              "        }    #T_7941461c_8e13_11ea_9cef_0242ac1c0002row6_col2 {\n",
              "            background-color:  #fedbcc;\n",
              "            color:  #000000;\n",
              "        }    #T_7941461c_8e13_11ea_9cef_0242ac1c0002row6_col3 {\n",
              "            background-color:  #fff2ec;\n",
              "            color:  #000000;\n",
              "        }    #T_7941461c_8e13_11ea_9cef_0242ac1c0002row6_col4 {\n",
              "            background-color:  #fcb79c;\n",
              "            color:  #000000;\n",
              "        }    #T_7941461c_8e13_11ea_9cef_0242ac1c0002row7_col1 {\n",
              "            background-color:  #feeae1;\n",
              "            color:  #000000;\n",
              "        }    #T_7941461c_8e13_11ea_9cef_0242ac1c0002row7_col2 {\n",
              "            background-color:  #fff4ef;\n",
              "            color:  #000000;\n",
              "        }    #T_7941461c_8e13_11ea_9cef_0242ac1c0002row7_col3 {\n",
              "            background-color:  #fff2eb;\n",
              "            color:  #000000;\n",
              "        }    #T_7941461c_8e13_11ea_9cef_0242ac1c0002row7_col4 {\n",
              "            background-color:  #fedaca;\n",
              "            color:  #000000;\n",
              "        }    #T_7941461c_8e13_11ea_9cef_0242ac1c0002row8_col1 {\n",
              "            background-color:  #fff2eb;\n",
              "            color:  #000000;\n",
              "        }    #T_7941461c_8e13_11ea_9cef_0242ac1c0002row8_col2 {\n",
              "            background-color:  #fff5f0;\n",
              "            color:  #000000;\n",
              "        }    #T_7941461c_8e13_11ea_9cef_0242ac1c0002row8_col3 {\n",
              "            background-color:  #fff5f0;\n",
              "            color:  #000000;\n",
              "        }    #T_7941461c_8e13_11ea_9cef_0242ac1c0002row8_col4 {\n",
              "            background-color:  #ffece3;\n",
              "            color:  #000000;\n",
              "        }    #T_7941461c_8e13_11ea_9cef_0242ac1c0002row9_col1 {\n",
              "            background-color:  #fff2ec;\n",
              "            color:  #000000;\n",
              "        }    #T_7941461c_8e13_11ea_9cef_0242ac1c0002row9_col2 {\n",
              "            background-color:  #ffeee6;\n",
              "            color:  #000000;\n",
              "        }    #T_7941461c_8e13_11ea_9cef_0242ac1c0002row9_col3 {\n",
              "            background-color:  #fff5f0;\n",
              "            color:  #000000;\n",
              "        }    #T_7941461c_8e13_11ea_9cef_0242ac1c0002row9_col4 {\n",
              "            background-color:  #ffece4;\n",
              "            color:  #000000;\n",
              "        }    #T_7941461c_8e13_11ea_9cef_0242ac1c0002row10_col1 {\n",
              "            background-color:  #fff5f0;\n",
              "            color:  #000000;\n",
              "        }    #T_7941461c_8e13_11ea_9cef_0242ac1c0002row10_col2 {\n",
              "            background-color:  #fff1ea;\n",
              "            color:  #000000;\n",
              "        }    #T_7941461c_8e13_11ea_9cef_0242ac1c0002row10_col3 {\n",
              "            background-color:  #fff5f0;\n",
              "            color:  #000000;\n",
              "        }    #T_7941461c_8e13_11ea_9cef_0242ac1c0002row10_col4 {\n",
              "            background-color:  #fff5f0;\n",
              "            color:  #000000;\n",
              "        }</style><table id=\"T_7941461c_8e13_11ea_9cef_0242ac1c0002\" ><thead>    <tr>        <th class=\"blank level0\" ></th>        <th class=\"col_heading level0 col0\" >Country/Region</th>        <th class=\"col_heading level0 col1\" >Confirmed</th>        <th class=\"col_heading level0 col2\" >Deaths</th>        <th class=\"col_heading level0 col3\" >Recovered</th>        <th class=\"col_heading level0 col4\" >Active</th>    </tr></thead><tbody>\n",
              "                <tr>\n",
              "                        <th id=\"T_7941461c_8e13_11ea_9cef_0242ac1c0002level0_row0\" class=\"row_heading level0 row0\" >0</th>\n",
              "                        <td id=\"T_7941461c_8e13_11ea_9cef_0242ac1c0002row0_col0\" class=\"data row0 col0\" >China</td>\n",
              "                        <td id=\"T_7941461c_8e13_11ea_9cef_0242ac1c0002row0_col1\" class=\"data row0 col1\" >2350949</td>\n",
              "                        <td id=\"T_7941461c_8e13_11ea_9cef_0242ac1c0002row0_col2\" class=\"data row0 col2\" >91871</td>\n",
              "                        <td id=\"T_7941461c_8e13_11ea_9cef_0242ac1c0002row0_col3\" class=\"data row0 col3\" >1855966</td>\n",
              "                        <td id=\"T_7941461c_8e13_11ea_9cef_0242ac1c0002row0_col4\" class=\"data row0 col4\" >403112</td>\n",
              "            </tr>\n",
              "            <tr>\n",
              "                        <th id=\"T_7941461c_8e13_11ea_9cef_0242ac1c0002level0_row1\" class=\"row_heading level0 row1\" >1</th>\n",
              "                        <td id=\"T_7941461c_8e13_11ea_9cef_0242ac1c0002row1_col0\" class=\"data row1 col0\" >Italy</td>\n",
              "                        <td id=\"T_7941461c_8e13_11ea_9cef_0242ac1c0002row1_col1\" class=\"data row1 col1\" >999590</td>\n",
              "                        <td id=\"T_7941461c_8e13_11ea_9cef_0242ac1c0002row1_col2\" class=\"data row1 col2\" >92408</td>\n",
              "                        <td id=\"T_7941461c_8e13_11ea_9cef_0242ac1c0002row1_col3\" class=\"data row1 col3\" >115222</td>\n",
              "                        <td id=\"T_7941461c_8e13_11ea_9cef_0242ac1c0002row1_col4\" class=\"data row1 col4\" >791960</td>\n",
              "            </tr>\n",
              "            <tr>\n",
              "                        <th id=\"T_7941461c_8e13_11ea_9cef_0242ac1c0002level0_row2\" class=\"row_heading level0 row2\" >2</th>\n",
              "                        <td id=\"T_7941461c_8e13_11ea_9cef_0242ac1c0002row2_col0\" class=\"data row2 col0\" >US</td>\n",
              "                        <td id=\"T_7941461c_8e13_11ea_9cef_0242ac1c0002row2_col1\" class=\"data row2 col1\" >736329</td>\n",
              "                        <td id=\"T_7941461c_8e13_11ea_9cef_0242ac1c0002row2_col2\" class=\"data row2 col2\" >11346</td>\n",
              "                        <td id=\"T_7941461c_8e13_11ea_9cef_0242ac1c0002row2_col3\" class=\"data row2 col3\" >7062</td>\n",
              "                        <td id=\"T_7941461c_8e13_11ea_9cef_0242ac1c0002row2_col4\" class=\"data row2 col4\" >717921</td>\n",
              "            </tr>\n",
              "            <tr>\n",
              "                        <th id=\"T_7941461c_8e13_11ea_9cef_0242ac1c0002level0_row3\" class=\"row_heading level0 row3\" >3</th>\n",
              "                        <td id=\"T_7941461c_8e13_11ea_9cef_0242ac1c0002row3_col0\" class=\"data row3 col0\" >Spain</td>\n",
              "                        <td id=\"T_7941461c_8e13_11ea_9cef_0242ac1c0002row3_col1\" class=\"data row3 col1\" >558667</td>\n",
              "                        <td id=\"T_7941461c_8e13_11ea_9cef_0242ac1c0002row3_col2\" class=\"data row3 col2\" >38399</td>\n",
              "                        <td id=\"T_7941461c_8e13_11ea_9cef_0242ac1c0002row3_col3\" class=\"data row3 col3\" >66865</td>\n",
              "                        <td id=\"T_7941461c_8e13_11ea_9cef_0242ac1c0002row3_col4\" class=\"data row3 col4\" >453403</td>\n",
              "            </tr>\n",
              "            <tr>\n",
              "                        <th id=\"T_7941461c_8e13_11ea_9cef_0242ac1c0002level0_row4\" class=\"row_heading level0 row4\" >4</th>\n",
              "                        <td id=\"T_7941461c_8e13_11ea_9cef_0242ac1c0002row4_col0\" class=\"data row4 col0\" >Germany</td>\n",
              "                        <td id=\"T_7941461c_8e13_11ea_9cef_0242ac1c0002row4_col1\" class=\"data row4 col1\" >449486</td>\n",
              "                        <td id=\"T_7941461c_8e13_11ea_9cef_0242ac1c0002row4_col2\" class=\"data row4 col2\" >2456</td>\n",
              "                        <td id=\"T_7941461c_8e13_11ea_9cef_0242ac1c0002row4_col3\" class=\"data row4 col3\" >38467</td>\n",
              "                        <td id=\"T_7941461c_8e13_11ea_9cef_0242ac1c0002row4_col4\" class=\"data row4 col4\" >408563</td>\n",
              "            </tr>\n",
              "            <tr>\n",
              "                        <th id=\"T_7941461c_8e13_11ea_9cef_0242ac1c0002level0_row5\" class=\"row_heading level0 row5\" >5</th>\n",
              "                        <td id=\"T_7941461c_8e13_11ea_9cef_0242ac1c0002row5_col0\" class=\"data row5 col0\" >Iran</td>\n",
              "                        <td id=\"T_7941461c_8e13_11ea_9cef_0242ac1c0002row5_col1\" class=\"data row5 col1\" >439847</td>\n",
              "                        <td id=\"T_7941461c_8e13_11ea_9cef_0242ac1c0002row5_col2\" class=\"data row5 col2\" >28545</td>\n",
              "                        <td id=\"T_7941461c_8e13_11ea_9cef_0242ac1c0002row5_col3\" class=\"data row5 col3\" >143833</td>\n",
              "                        <td id=\"T_7941461c_8e13_11ea_9cef_0242ac1c0002row5_col4\" class=\"data row5 col4\" >267469</td>\n",
              "            </tr>\n",
              "            <tr>\n",
              "                        <th id=\"T_7941461c_8e13_11ea_9cef_0242ac1c0002level0_row6\" class=\"row_heading level0 row6\" >6</th>\n",
              "                        <td id=\"T_7941461c_8e13_11ea_9cef_0242ac1c0002row6_col0\" class=\"data row6 col0\" >France</td>\n",
              "                        <td id=\"T_7941461c_8e13_11ea_9cef_0242ac1c0002row6_col1\" class=\"data row6 col1\" >312319</td>\n",
              "                        <td id=\"T_7941461c_8e13_11ea_9cef_0242ac1c0002row6_col2\" class=\"data row6 col2\" >14768</td>\n",
              "                        <td id=\"T_7941461c_8e13_11ea_9cef_0242ac1c0002row6_col3\" class=\"data row6 col3\" >35433</td>\n",
              "                        <td id=\"T_7941461c_8e13_11ea_9cef_0242ac1c0002row6_col4\" class=\"data row6 col4\" >262118</td>\n",
              "            </tr>\n",
              "            <tr>\n",
              "                        <th id=\"T_7941461c_8e13_11ea_9cef_0242ac1c0002level0_row7\" class=\"row_heading level0 row7\" >7</th>\n",
              "                        <td id=\"T_7941461c_8e13_11ea_9cef_0242ac1c0002row7_col0\" class=\"data row7 col0\" >South Korea</td>\n",
              "                        <td id=\"T_7941461c_8e13_11ea_9cef_0242ac1c0002row7_col1\" class=\"data row7 col1\" >225471</td>\n",
              "                        <td id=\"T_7941461c_8e13_11ea_9cef_0242ac1c0002row7_col2\" class=\"data row7 col2\" >2286</td>\n",
              "                        <td id=\"T_7941461c_8e13_11ea_9cef_0242ac1c0002row7_col3\" class=\"data row7 col3\" >43351</td>\n",
              "                        <td id=\"T_7941461c_8e13_11ea_9cef_0242ac1c0002row7_col4\" class=\"data row7 col4\" >179834</td>\n",
              "            </tr>\n",
              "            <tr>\n",
              "                        <th id=\"T_7941461c_8e13_11ea_9cef_0242ac1c0002level0_row8\" class=\"row_heading level0 row8\" >8</th>\n",
              "                        <td id=\"T_7941461c_8e13_11ea_9cef_0242ac1c0002row8_col0\" class=\"data row8 col0\" >Switzerland</td>\n",
              "                        <td id=\"T_7941461c_8e13_11ea_9cef_0242ac1c0002row8_col1\" class=\"data row8 col1\" >122574</td>\n",
              "                        <td id=\"T_7941461c_8e13_11ea_9cef_0242ac1c0002row8_col2\" class=\"data row8 col2\" >1774</td>\n",
              "                        <td id=\"T_7941461c_8e13_11ea_9cef_0242ac1c0002row8_col3\" class=\"data row8 col3\" >5421</td>\n",
              "                        <td id=\"T_7941461c_8e13_11ea_9cef_0242ac1c0002row8_col4\" class=\"data row8 col4\" >115379</td>\n",
              "            </tr>\n",
              "            <tr>\n",
              "                        <th id=\"T_7941461c_8e13_11ea_9cef_0242ac1c0002level0_row9\" class=\"row_heading level0 row9\" >9</th>\n",
              "                        <td id=\"T_7941461c_8e13_11ea_9cef_0242ac1c0002row9_col0\" class=\"data row9 col0\" >United Kingdom</td>\n",
              "                        <td id=\"T_7941461c_8e13_11ea_9cef_0242ac1c0002row9_col1\" class=\"data row9 col1\" >117563</td>\n",
              "                        <td id=\"T_7941461c_8e13_11ea_9cef_0242ac1c0002row9_col2\" class=\"data row9 col2\" >5918</td>\n",
              "                        <td id=\"T_7941461c_8e13_11ea_9cef_0242ac1c0002row9_col3\" class=\"data row9 col3\" >1575</td>\n",
              "                        <td id=\"T_7941461c_8e13_11ea_9cef_0242ac1c0002row9_col4\" class=\"data row9 col4\" >110070</td>\n",
              "            </tr>\n",
              "            <tr>\n",
              "                        <th id=\"T_7941461c_8e13_11ea_9cef_0242ac1c0002level0_row10\" class=\"row_heading level0 row10\" >10</th>\n",
              "                        <td id=\"T_7941461c_8e13_11ea_9cef_0242ac1c0002row10_col0\" class=\"data row10 col0\" >Netherlands</td>\n",
              "                        <td id=\"T_7941461c_8e13_11ea_9cef_0242ac1c0002row10_col1\" class=\"data row10 col1\" >77526</td>\n",
              "                        <td id=\"T_7941461c_8e13_11ea_9cef_0242ac1c0002row10_col2\" class=\"data row10 col2\" >3932</td>\n",
              "                        <td id=\"T_7941461c_8e13_11ea_9cef_0242ac1c0002row10_col3\" class=\"data row10 col3\" >298</td>\n",
              "                        <td id=\"T_7941461c_8e13_11ea_9cef_0242ac1c0002row10_col4\" class=\"data row10 col4\" >73296</td>\n",
              "            </tr>\n",
              "    </tbody></table>"
            ],
            "text/plain": [
              "<pandas.io.formats.style.Styler at 0x7f0dd05f3c18>"
            ]
          },
          "metadata": {
            "tags": []
          },
          "execution_count": 8
        }
      ]
    },
    {
      "cell_type": "markdown",
      "metadata": {
        "id": "2-A-wozhG-WJ",
        "colab_type": "text"
      },
      "source": [
        "Visual data"
      ]
    },
    {
      "cell_type": "markdown",
      "metadata": {
        "id": "FXXDrICX7yni",
        "colab_type": "text"
      },
      "source": [
        "# Temperature Data"
      ]
    },
    {
      "cell_type": "markdown",
      "metadata": {
        "id": "IqeppnXQDRug",
        "colab_type": "text"
      },
      "source": [
        "March Average temperature\\\n",
        "data resource: [link1](https://www.currentresults.com/Weather/Europe/Cities/temperature-march.php), [link2](https://weatherspark.com/m/105125/3/Average-Weather-in-March-in-Tehran-Iran), [link3](https://www.ncdc.noaa.gov/sotc/national/202003), [link4](https://www.chinahighlights.com/weather/march.htm), [link5](https://www.weather-kr.com/)"
      ]
    },
    {
      "cell_type": "code",
      "metadata": {
        "id": "jOcConWY76ag",
        "colab_type": "code",
        "outputId": "315f44f1-245e-466f-e31c-db75a9a1efb8",
        "colab": {
          "base_uri": "https://localhost:8080/",
          "height": 204
        }
      },
      "source": [
        "temper = pd.read_csv('/content/AverageDailyTemperaturesInMarch.csv')\n",
        "temper = temper.groupby('Country/Region').mean().reset_index()\n",
        "temper['AverTemp'] = temper.mean(axis=1)\n",
        "temper = temper.groupby('Country/Region')['AverTemp'].sum().reset_index()\n",
        "temper.head()"
      ],
      "execution_count": 9,
      "outputs": [
        {
          "output_type": "execute_result",
          "data": {
            "text/html": [
              "<div>\n",
              "<style scoped>\n",
              "    .dataframe tbody tr th:only-of-type {\n",
              "        vertical-align: middle;\n",
              "    }\n",
              "\n",
              "    .dataframe tbody tr th {\n",
              "        vertical-align: top;\n",
              "    }\n",
              "\n",
              "    .dataframe thead th {\n",
              "        text-align: right;\n",
              "    }\n",
              "</style>\n",
              "<table border=\"1\" class=\"dataframe\">\n",
              "  <thead>\n",
              "    <tr style=\"text-align: right;\">\n",
              "      <th></th>\n",
              "      <th>Country/Region</th>\n",
              "      <th>AverTemp</th>\n",
              "    </tr>\n",
              "  </thead>\n",
              "  <tbody>\n",
              "    <tr>\n",
              "      <th>0</th>\n",
              "      <td>Austria</td>\n",
              "      <td>5.75</td>\n",
              "    </tr>\n",
              "    <tr>\n",
              "      <th>1</th>\n",
              "      <td>Belarus</td>\n",
              "      <td>-1.50</td>\n",
              "    </tr>\n",
              "    <tr>\n",
              "      <th>2</th>\n",
              "      <td>Belgium</td>\n",
              "      <td>6.50</td>\n",
              "    </tr>\n",
              "    <tr>\n",
              "      <th>3</th>\n",
              "      <td>Canada</td>\n",
              "      <td>1.40</td>\n",
              "    </tr>\n",
              "    <tr>\n",
              "      <th>4</th>\n",
              "      <td>China</td>\n",
              "      <td>8.00</td>\n",
              "    </tr>\n",
              "  </tbody>\n",
              "</table>\n",
              "</div>"
            ],
            "text/plain": [
              "  Country/Region  AverTemp\n",
              "0        Austria      5.75\n",
              "1        Belarus     -1.50\n",
              "2        Belgium      6.50\n",
              "3         Canada      1.40\n",
              "4          China      8.00"
            ]
          },
          "metadata": {
            "tags": []
          },
          "execution_count": 9
        }
      ]
    },
    {
      "cell_type": "markdown",
      "metadata": {
        "id": "loh1qn3rjHwU",
        "colab_type": "text"
      },
      "source": [
        "merge temper to full_table"
      ]
    },
    {
      "cell_type": "code",
      "metadata": {
        "id": "H6nJVqISjHKQ",
        "colab_type": "code",
        "outputId": "ed428261-1924-4856-d9c3-0f20e66d9391",
        "colab": {
          "base_uri": "https://localhost:8080/",
          "height": 390
        }
      },
      "source": [
        "mergeTable = pd.merge(march, temper, on=['Country/Region'], how='left')\n",
        "mergeTable.head(11)"
      ],
      "execution_count": 10,
      "outputs": [
        {
          "output_type": "execute_result",
          "data": {
            "text/html": [
              "<div>\n",
              "<style scoped>\n",
              "    .dataframe tbody tr th:only-of-type {\n",
              "        vertical-align: middle;\n",
              "    }\n",
              "\n",
              "    .dataframe tbody tr th {\n",
              "        vertical-align: top;\n",
              "    }\n",
              "\n",
              "    .dataframe thead th {\n",
              "        text-align: right;\n",
              "    }\n",
              "</style>\n",
              "<table border=\"1\" class=\"dataframe\">\n",
              "  <thead>\n",
              "    <tr style=\"text-align: right;\">\n",
              "      <th></th>\n",
              "      <th>Country/Region</th>\n",
              "      <th>Confirmed</th>\n",
              "      <th>Deaths</th>\n",
              "      <th>Recovered</th>\n",
              "      <th>Active</th>\n",
              "      <th>AverTemp</th>\n",
              "    </tr>\n",
              "  </thead>\n",
              "  <tbody>\n",
              "    <tr>\n",
              "      <th>0</th>\n",
              "      <td>China</td>\n",
              "      <td>2350949</td>\n",
              "      <td>91871</td>\n",
              "      <td>1855966</td>\n",
              "      <td>403112</td>\n",
              "      <td>8.000000</td>\n",
              "    </tr>\n",
              "    <tr>\n",
              "      <th>1</th>\n",
              "      <td>Italy</td>\n",
              "      <td>999590</td>\n",
              "      <td>92408</td>\n",
              "      <td>115222</td>\n",
              "      <td>791960</td>\n",
              "      <td>10.000000</td>\n",
              "    </tr>\n",
              "    <tr>\n",
              "      <th>2</th>\n",
              "      <td>US</td>\n",
              "      <td>736329</td>\n",
              "      <td>11346</td>\n",
              "      <td>7062</td>\n",
              "      <td>717921</td>\n",
              "      <td>7.835000</td>\n",
              "    </tr>\n",
              "    <tr>\n",
              "      <th>3</th>\n",
              "      <td>Spain</td>\n",
              "      <td>558667</td>\n",
              "      <td>38399</td>\n",
              "      <td>66865</td>\n",
              "      <td>453403</td>\n",
              "      <td>11.000000</td>\n",
              "    </tr>\n",
              "    <tr>\n",
              "      <th>4</th>\n",
              "      <td>Germany</td>\n",
              "      <td>449486</td>\n",
              "      <td>2456</td>\n",
              "      <td>38467</td>\n",
              "      <td>408563</td>\n",
              "      <td>4.500000</td>\n",
              "    </tr>\n",
              "    <tr>\n",
              "      <th>5</th>\n",
              "      <td>Iran</td>\n",
              "      <td>439847</td>\n",
              "      <td>28545</td>\n",
              "      <td>143833</td>\n",
              "      <td>267469</td>\n",
              "      <td>11.500000</td>\n",
              "    </tr>\n",
              "    <tr>\n",
              "      <th>6</th>\n",
              "      <td>France</td>\n",
              "      <td>312319</td>\n",
              "      <td>14768</td>\n",
              "      <td>35433</td>\n",
              "      <td>262118</td>\n",
              "      <td>9.400000</td>\n",
              "    </tr>\n",
              "    <tr>\n",
              "      <th>7</th>\n",
              "      <td>South Korea</td>\n",
              "      <td>225471</td>\n",
              "      <td>2286</td>\n",
              "      <td>43351</td>\n",
              "      <td>179834</td>\n",
              "      <td>6.750000</td>\n",
              "    </tr>\n",
              "    <tr>\n",
              "      <th>8</th>\n",
              "      <td>Switzerland</td>\n",
              "      <td>122574</td>\n",
              "      <td>1774</td>\n",
              "      <td>5421</td>\n",
              "      <td>115379</td>\n",
              "      <td>5.250000</td>\n",
              "    </tr>\n",
              "    <tr>\n",
              "      <th>9</th>\n",
              "      <td>United Kingdom</td>\n",
              "      <td>117563</td>\n",
              "      <td>5918</td>\n",
              "      <td>1575</td>\n",
              "      <td>110070</td>\n",
              "      <td>6.666667</td>\n",
              "    </tr>\n",
              "    <tr>\n",
              "      <th>10</th>\n",
              "      <td>Netherlands</td>\n",
              "      <td>77526</td>\n",
              "      <td>3932</td>\n",
              "      <td>298</td>\n",
              "      <td>73296</td>\n",
              "      <td>6.000000</td>\n",
              "    </tr>\n",
              "  </tbody>\n",
              "</table>\n",
              "</div>"
            ],
            "text/plain": [
              "    Country/Region  Confirmed  Deaths  Recovered  Active   AverTemp\n",
              "0            China    2350949   91871    1855966  403112   8.000000\n",
              "1            Italy     999590   92408     115222  791960  10.000000\n",
              "2               US     736329   11346       7062  717921   7.835000\n",
              "3            Spain     558667   38399      66865  453403  11.000000\n",
              "4          Germany     449486    2456      38467  408563   4.500000\n",
              "5             Iran     439847   28545     143833  267469  11.500000\n",
              "6           France     312319   14768      35433  262118   9.400000\n",
              "7      South Korea     225471    2286      43351  179834   6.750000\n",
              "8      Switzerland     122574    1774       5421  115379   5.250000\n",
              "9   United Kingdom     117563    5918       1575  110070   6.666667\n",
              "10     Netherlands      77526    3932        298   73296   6.000000"
            ]
          },
          "metadata": {
            "tags": []
          },
          "execution_count": 10
        }
      ]
    },
    {
      "cell_type": "markdown",
      "metadata": {
        "id": "1MTvsL5C0H-p",
        "colab_type": "text"
      },
      "source": [
        "### Statistical Analysis"
      ]
    },
    {
      "cell_type": "code",
      "metadata": {
        "id": "_n24IUYr1WcF",
        "colab_type": "code",
        "colab": {}
      },
      "source": [
        "import seaborn as sns\n",
        "import matplotlib.pyplot as plt\n",
        "sns.set(style=\"white\", color_codes=True)\n",
        "import warnings # current version of seaborn generates a bunch of warnings that we'll ignore\n",
        "warnings.filterwarnings(\"ignore\")"
      ],
      "execution_count": 0,
      "outputs": []
    },
    {
      "cell_type": "markdown",
      "metadata": {
        "id": "lRlaoRybKvbu",
        "colab_type": "text"
      },
      "source": [
        "Top 11 countries with confirmed cases"
      ]
    },
    {
      "cell_type": "code",
      "metadata": {
        "id": "vLi7o0yU1Af8",
        "colab_type": "code",
        "outputId": "8974c92e-fca9-4ce0-83c3-6b32de178a34",
        "colab": {
          "base_uri": "https://localhost:8080/",
          "height": 491
        }
      },
      "source": [
        "#sns.jointplot(x=\"AverTemp\", y=\"Active\", data=mergeTable, size=5)\n",
        "sns.FacetGrid(mergeTable, hue=\"Country/Region\", size=6.5).map(plt.scatter, \"AverTemp\", \"Confirmed\").add_legend()"
      ],
      "execution_count": 12,
      "outputs": [
        {
          "output_type": "execute_result",
          "data": {
            "text/plain": [
              "<seaborn.axisgrid.FacetGrid at 0x7f0dd05f3fd0>"
            ]
          },
          "metadata": {
            "tags": []
          },
          "execution_count": 12
        },
        {
          "output_type": "display_data",
          "data": {
            "image/png": "[encoded data removed]",
            "text/plain": [
              "<Figure size 596.475x468 with 1 Axes>"
            ]
          },
          "metadata": {
            "tags": []
          }
        }
      ]
    },
    {
      "cell_type": "markdown",
      "metadata": {
        "id": "5kv78Y4-LUug",
        "colab_type": "text"
      },
      "source": [
        "Exclude the highest data and Observe again"
      ]
    },
    {
      "cell_type": "code",
      "metadata": {
        "id": "zAy5YmNv1MLO",
        "colab_type": "code",
        "colab": {
          "base_uri": "https://localhost:8080/",
          "height": 204
        },
        "outputId": "899576e5-9ef3-4e87-9124-0f0b784fd319"
      },
      "source": [
        "revChina = mergeTable.drop(mergeTable.index[0])\n",
        "#revChina[mergeTable['Country/Region'] != 'China']\n",
        "revChina.head()"
      ],
      "execution_count": 13,
      "outputs": [
        {
          "output_type": "execute_result",
          "data": {
            "text/html": [
              "<div>\n",
              "<style scoped>\n",
              "    .dataframe tbody tr th:only-of-type {\n",
              "        vertical-align: middle;\n",
              "    }\n",
              "\n",
              "    .dataframe tbody tr th {\n",
              "        vertical-align: top;\n",
              "    }\n",
              "\n",
              "    .dataframe thead th {\n",
              "        text-align: right;\n",
              "    }\n",
              "</style>\n",
              "<table border=\"1\" class=\"dataframe\">\n",
              "  <thead>\n",
              "    <tr style=\"text-align: right;\">\n",
              "      <th></th>\n",
              "      <th>Country/Region</th>\n",
              "      <th>Confirmed</th>\n",
              "      <th>Deaths</th>\n",
              "      <th>Recovered</th>\n",
              "      <th>Active</th>\n",
              "      <th>AverTemp</th>\n",
              "    </tr>\n",
              "  </thead>\n",
              "  <tbody>\n",
              "    <tr>\n",
              "      <th>1</th>\n",
              "      <td>Italy</td>\n",
              "      <td>999590</td>\n",
              "      <td>92408</td>\n",
              "      <td>115222</td>\n",
              "      <td>791960</td>\n",
              "      <td>10.000</td>\n",
              "    </tr>\n",
              "    <tr>\n",
              "      <th>2</th>\n",
              "      <td>US</td>\n",
              "      <td>736329</td>\n",
              "      <td>11346</td>\n",
              "      <td>7062</td>\n",
              "      <td>717921</td>\n",
              "      <td>7.835</td>\n",
              "    </tr>\n",
              "    <tr>\n",
              "      <th>3</th>\n",
              "      <td>Spain</td>\n",
              "      <td>558667</td>\n",
              "      <td>38399</td>\n",
              "      <td>66865</td>\n",
              "      <td>453403</td>\n",
              "      <td>11.000</td>\n",
              "    </tr>\n",
              "    <tr>\n",
              "      <th>4</th>\n",
              "      <td>Germany</td>\n",
              "      <td>449486</td>\n",
              "      <td>2456</td>\n",
              "      <td>38467</td>\n",
              "      <td>408563</td>\n",
              "      <td>4.500</td>\n",
              "    </tr>\n",
              "    <tr>\n",
              "      <th>5</th>\n",
              "      <td>Iran</td>\n",
              "      <td>439847</td>\n",
              "      <td>28545</td>\n",
              "      <td>143833</td>\n",
              "      <td>267469</td>\n",
              "      <td>11.500</td>\n",
              "    </tr>\n",
              "  </tbody>\n",
              "</table>\n",
              "</div>"
            ],
            "text/plain": [
              "  Country/Region  Confirmed  Deaths  Recovered  Active  AverTemp\n",
              "1          Italy     999590   92408     115222  791960    10.000\n",
              "2             US     736329   11346       7062  717921     7.835\n",
              "3          Spain     558667   38399      66865  453403    11.000\n",
              "4        Germany     449486    2456      38467  408563     4.500\n",
              "5           Iran     439847   28545     143833  267469    11.500"
            ]
          },
          "metadata": {
            "tags": []
          },
          "execution_count": 13
        }
      ]
    },
    {
      "cell_type": "code",
      "metadata": {
        "id": "sgUjLC1mI8fl",
        "colab_type": "code",
        "colab": {
          "base_uri": "https://localhost:8080/",
          "height": 491
        },
        "outputId": "14823d8f-c0c5-43ae-c3b8-d929acf032b2"
      },
      "source": [
        "sns.FacetGrid(revChina, hue=\"Country/Region\", size=6.5).map(plt.scatter, \"AverTemp\", \"Confirmed\").add_legend()"
      ],
      "execution_count": 14,
      "outputs": [
        {
          "output_type": "execute_result",
          "data": {
            "text/plain": [
              "<seaborn.axisgrid.FacetGrid at 0x7f0dcdcff978>"
            ]
          },
          "metadata": {
            "tags": []
          },
          "execution_count": 14
        },
        {
          "output_type": "display_data",
          "data": {
            "image/png": "[encoded data removed]",
            "text/plain": [
              "<Figure size 596.475x468 with 1 Axes>"
            ]
          },
          "metadata": {
            "tags": []
          }
        }
      ]
    },
    {
      "cell_type": "markdown",
      "metadata": {
        "id": "Jp84w4alV7eE",
        "colab_type": "text"
      },
      "source": [
        "# Data Visualisation"
      ]
    },
    {
      "cell_type": "markdown",
      "metadata": {
        "id": "bfsS_h4_qCFL",
        "colab_type": "text"
      },
      "source": [
        "## Time Series Analysis"
      ]
    },
    {
      "cell_type": "code",
      "metadata": {
        "id": "fJ9E0XEJPFIP",
        "colab_type": "code",
        "colab": {
          "base_uri": "https://localhost:8080/",
          "height": 419
        },
        "outputId": "bea5b8fd-67d7-4d1b-a4df-12a76eb89b79"
      },
      "source": [
        "TS = full_table\n",
        "TS = TS.groupby('Date')['Confirmed', 'Deaths', 'Recovered', 'Active'].sum().reset_index()\n",
        "TS"
      ],
      "execution_count": 15,
      "outputs": [
        {
          "output_type": "execute_result",
          "data": {
            "text/html": [
              "<div>\n",
              "<style scoped>\n",
              "    .dataframe tbody tr th:only-of-type {\n",
              "        vertical-align: middle;\n",
              "    }\n",
              "\n",
              "    .dataframe tbody tr th {\n",
              "        vertical-align: top;\n",
              "    }\n",
              "\n",
              "    .dataframe thead th {\n",
              "        text-align: right;\n",
              "    }\n",
              "</style>\n",
              "<table border=\"1\" class=\"dataframe\">\n",
              "  <thead>\n",
              "    <tr style=\"text-align: right;\">\n",
              "      <th></th>\n",
              "      <th>Date</th>\n",
              "      <th>Confirmed</th>\n",
              "      <th>Deaths</th>\n",
              "      <th>Recovered</th>\n",
              "      <th>Active</th>\n",
              "    </tr>\n",
              "  </thead>\n",
              "  <tbody>\n",
              "    <tr>\n",
              "      <th>0</th>\n",
              "      <td>2020-01-22</td>\n",
              "      <td>555</td>\n",
              "      <td>17</td>\n",
              "      <td>28</td>\n",
              "      <td>510</td>\n",
              "    </tr>\n",
              "    <tr>\n",
              "      <th>1</th>\n",
              "      <td>2020-01-23</td>\n",
              "      <td>654</td>\n",
              "      <td>18</td>\n",
              "      <td>30</td>\n",
              "      <td>606</td>\n",
              "    </tr>\n",
              "    <tr>\n",
              "      <th>2</th>\n",
              "      <td>2020-01-24</td>\n",
              "      <td>941</td>\n",
              "      <td>26</td>\n",
              "      <td>36</td>\n",
              "      <td>879</td>\n",
              "    </tr>\n",
              "    <tr>\n",
              "      <th>3</th>\n",
              "      <td>2020-01-25</td>\n",
              "      <td>1434</td>\n",
              "      <td>42</td>\n",
              "      <td>39</td>\n",
              "      <td>1353</td>\n",
              "    </tr>\n",
              "    <tr>\n",
              "      <th>4</th>\n",
              "      <td>2020-01-26</td>\n",
              "      <td>2118</td>\n",
              "      <td>56</td>\n",
              "      <td>52</td>\n",
              "      <td>2010</td>\n",
              "    </tr>\n",
              "    <tr>\n",
              "      <th>...</th>\n",
              "      <td>...</td>\n",
              "      <td>...</td>\n",
              "      <td>...</td>\n",
              "      <td>...</td>\n",
              "      <td>...</td>\n",
              "    </tr>\n",
              "    <tr>\n",
              "      <th>63</th>\n",
              "      <td>2020-03-25</td>\n",
              "      <td>467653</td>\n",
              "      <td>21181</td>\n",
              "      <td>113604</td>\n",
              "      <td>332868</td>\n",
              "    </tr>\n",
              "    <tr>\n",
              "      <th>64</th>\n",
              "      <td>2020-03-26</td>\n",
              "      <td>529591</td>\n",
              "      <td>23970</td>\n",
              "      <td>121966</td>\n",
              "      <td>383655</td>\n",
              "    </tr>\n",
              "    <tr>\n",
              "      <th>65</th>\n",
              "      <td>2020-03-27</td>\n",
              "      <td>593291</td>\n",
              "      <td>27198</td>\n",
              "      <td>130659</td>\n",
              "      <td>435434</td>\n",
              "    </tr>\n",
              "    <tr>\n",
              "      <th>66</th>\n",
              "      <td>2020-03-28</td>\n",
              "      <td>660706</td>\n",
              "      <td>30652</td>\n",
              "      <td>138949</td>\n",
              "      <td>491105</td>\n",
              "    </tr>\n",
              "    <tr>\n",
              "      <th>67</th>\n",
              "      <td>2020-03-29</td>\n",
              "      <td>720117</td>\n",
              "      <td>33925</td>\n",
              "      <td>148616</td>\n",
              "      <td>537576</td>\n",
              "    </tr>\n",
              "  </tbody>\n",
              "</table>\n",
              "<p>68 rows × 5 columns</p>\n",
              "</div>"
            ],
            "text/plain": [
              "         Date  Confirmed  Deaths  Recovered  Active\n",
              "0  2020-01-22        555      17         28     510\n",
              "1  2020-01-23        654      18         30     606\n",
              "2  2020-01-24        941      26         36     879\n",
              "3  2020-01-25       1434      42         39    1353\n",
              "4  2020-01-26       2118      56         52    2010\n",
              "..        ...        ...     ...        ...     ...\n",
              "63 2020-03-25     467653   21181     113604  332868\n",
              "64 2020-03-26     529591   23970     121966  383655\n",
              "65 2020-03-27     593291   27198     130659  435434\n",
              "66 2020-03-28     660706   30652     138949  491105\n",
              "67 2020-03-29     720117   33925     148616  537576\n",
              "\n",
              "[68 rows x 5 columns]"
            ]
          },
          "metadata": {
            "tags": []
          },
          "execution_count": 15
        }
      ]
    },
    {
      "cell_type": "code",
      "metadata": {
        "id": "48mYjI5226b_",
        "colab_type": "code",
        "colab": {
          "base_uri": "https://localhost:8080/",
          "height": 542
        },
        "outputId": "b4167e02-82eb-49d8-921f-e1c90b922a50"
      },
      "source": [
        "import plotly.express as px\n",
        "df1 = TS.melt(id_vars='Date', value_vars=['Confirmed', 'Recovered'])\n",
        "fig = px.line(df1, x='Date', y='value', color='variable', title='Time Series of COVID', range_x=['2020-02-20','2020-03-29'])\n",
        "\n",
        "# Show plot \n",
        "fig.show()\n"
      ],
      "execution_count": 16,
      "outputs": [
        {
          "output_type": "display_data",
          "data": {
            "text/html": [
              "<html>\n",
              "<head><meta charset=\"utf-8\" /></head>\n",
              "<body>\n",
              "    <div>\n",
              "            <script src=\"https://cdnjs.cloudflare.com/ajax/libs/mathjax/2.7.5/MathJax.js?config=TeX-AMS-MML_SVG\"></script><script type=\"text/javascript\">if (window.MathJax) {MathJax.Hub.Config({SVG: {font: \"STIX-Web\"}});}</script>\n",
              "                <script type=\"text/javascript\">window.PlotlyConfig = {MathJaxConfig: 'local'};</script>\n",
              "        <script src=\"https://cdn.plot.ly/plotly-latest.min.js\"></script>    \n",
              "            <div id=\"133d1da9-d8ca-454e-8e64-fe44616af0ba\" class=\"plotly-graph-div\" style=\"height:525px; width:100%;\"></div>\n",
              "            <script type=\"text/javascript\">\n",
              "                \n",
              "                    window.PLOTLYENV=window.PLOTLYENV || {};\n",
              "                    \n",
              "                if (document.getElementById(\"133d1da9-d8ca-454e-8e64-fe44616af0ba\")) {\n",
              "                    Plotly.newPlot(\n",
              "                        '133d1da9-d8ca-454e-8e64-fe44616af0ba',\n",
              "                        [{\"hoverlabel\": {\"namelength\": 0}, \"hovertemplate\": \"variable=Confirmed<br>Date=%{x}<br>value=%{y}\", \"legendgroup\": \"variable=Confirmed\", \"line\": {\"color\": \"#636efa\", \"dash\": \"solid\"}, \"mode\": \"lines\", \"name\": \"variable=Confirmed\", \"showlegend\": true, \"type\": \"scatter\", \"x\": [\"2020-01-22T00:00:00\", \"2020-01-23T00:00:00\", \"2020-01-24T00:00:00\", \"2020-01-25T00:00:00\", \"2020-01-26T00:00:00\", \"2020-01-27T00:00:00\", \"2020-01-28T00:00:00\", \"2020-01-29T00:00:00\", \"2020-01-30T00:00:00\", \"2020-01-31T00:00:00\", \"2020-02-01T00:00:00\", \"2020-02-02T00:00:00\", \"2020-02-03T00:00:00\", \"2020-02-04T00:00:00\", \"2020-02-05T00:00:00\", \"2020-02-06T00:00:00\", \"2020-02-07T00:00:00\", \"2020-02-08T00:00:00\", \"2020-02-09T00:00:00\", \"2020-02-10T00:00:00\", \"2020-02-11T00:00:00\", \"2020-02-12T00:00:00\", \"2020-02-13T00:00:00\", \"2020-02-14T00:00:00\", \"2020-02-15T00:00:00\", \"2020-02-16T00:00:00\", \"2020-02-17T00:00:00\", \"2020-02-18T00:00:00\", \"2020-02-19T00:00:00\", \"2020-02-20T00:00:00\", \"2020-02-21T00:00:00\", \"2020-02-22T00:00:00\", \"2020-02-23T00:00:00\", \"2020-02-24T00:00:00\", \"2020-02-25T00:00:00\", \"2020-02-26T00:00:00\", \"2020-02-27T00:00:00\", \"2020-02-28T00:00:00\", \"2020-02-29T00:00:00\", \"2020-03-01T00:00:00\", \"2020-03-02T00:00:00\", \"2020-03-03T00:00:00\", \"2020-03-04T00:00:00\", \"2020-03-05T00:00:00\", \"2020-03-06T00:00:00\", \"2020-03-07T00:00:00\", \"2020-03-08T00:00:00\", \"2020-03-09T00:00:00\", \"2020-03-10T00:00:00\", \"2020-03-11T00:00:00\", \"2020-03-12T00:00:00\", \"2020-03-13T00:00:00\", \"2020-03-14T00:00:00\", \"2020-03-15T00:00:00\", \"2020-03-16T00:00:00\", \"2020-03-17T00:00:00\", \"2020-03-18T00:00:00\", \"2020-03-19T00:00:00\", \"2020-03-20T00:00:00\", \"2020-03-21T00:00:00\", \"2020-03-22T00:00:00\", \"2020-03-23T00:00:00\", \"2020-03-24T00:00:00\", \"2020-03-25T00:00:00\", \"2020-03-26T00:00:00\", \"2020-03-27T00:00:00\", \"2020-03-28T00:00:00\", \"2020-03-29T00:00:00\"], \"xaxis\": \"x\", \"y\": [555, 654, 941, 1434, 2118, 2927, 5578, 6166, 8234, 9927, 12038, 16787, 19881, 23892, 27635, 30794, 34391, 37120, 40150, 42762, 44802, 46729, 60368, 66885, 69030, 71224, 73258, 75136, 75639, 76197, 76819, 78572, 78958, 79561, 80406, 81388, 82746, 84112, 86011, 88369, 90306, 92840, 95120, 97886, 101801, 105847, 109821, 113590, 118620, 125875, 128352, 145205, 156101, 167454, 181574, 197102, 214821, 242500, 272035, 304396, 336953, 378235, 418045, 467653, 529591, 593291, 660706, 720117], \"yaxis\": \"y\"}, {\"hoverlabel\": {\"namelength\": 0}, \"hovertemplate\": \"variable=Recovered<br>Date=%{x}<br>value=%{y}\", \"legendgroup\": \"variable=Recovered\", \"line\": {\"color\": \"#EF553B\", \"dash\": \"solid\"}, \"mode\": \"lines\", \"name\": \"variable=Recovered\", \"showlegend\": true, \"type\": \"scatter\", \"x\": [\"2020-01-22T00:00:00\", \"2020-01-23T00:00:00\", \"2020-01-24T00:00:00\", \"2020-01-25T00:00:00\", \"2020-01-26T00:00:00\", \"2020-01-27T00:00:00\", \"2020-01-28T00:00:00\", \"2020-01-29T00:00:00\", \"2020-01-30T00:00:00\", \"2020-01-31T00:00:00\", \"2020-02-01T00:00:00\", \"2020-02-02T00:00:00\", \"2020-02-03T00:00:00\", \"2020-02-04T00:00:00\", \"2020-02-05T00:00:00\", \"2020-02-06T00:00:00\", \"2020-02-07T00:00:00\", \"2020-02-08T00:00:00\", \"2020-02-09T00:00:00\", \"2020-02-10T00:00:00\", \"2020-02-11T00:00:00\", \"2020-02-12T00:00:00\", \"2020-02-13T00:00:00\", \"2020-02-14T00:00:00\", \"2020-02-15T00:00:00\", \"2020-02-16T00:00:00\", \"2020-02-17T00:00:00\", \"2020-02-18T00:00:00\", \"2020-02-19T00:00:00\", \"2020-02-20T00:00:00\", \"2020-02-21T00:00:00\", \"2020-02-22T00:00:00\", \"2020-02-23T00:00:00\", \"2020-02-24T00:00:00\", \"2020-02-25T00:00:00\", \"2020-02-26T00:00:00\", \"2020-02-27T00:00:00\", \"2020-02-28T00:00:00\", \"2020-02-29T00:00:00\", \"2020-03-01T00:00:00\", \"2020-03-02T00:00:00\", \"2020-03-03T00:00:00\", \"2020-03-04T00:00:00\", \"2020-03-05T00:00:00\", \"2020-03-06T00:00:00\", \"2020-03-07T00:00:00\", \"2020-03-08T00:00:00\", \"2020-03-09T00:00:00\", \"2020-03-10T00:00:00\", \"2020-03-11T00:00:00\", \"2020-03-12T00:00:00\", \"2020-03-13T00:00:00\", \"2020-03-14T00:00:00\", \"2020-03-15T00:00:00\", \"2020-03-16T00:00:00\", \"2020-03-17T00:00:00\", \"2020-03-18T00:00:00\", \"2020-03-19T00:00:00\", \"2020-03-20T00:00:00\", \"2020-03-21T00:00:00\", \"2020-03-22T00:00:00\", \"2020-03-23T00:00:00\", \"2020-03-24T00:00:00\", \"2020-03-25T00:00:00\", \"2020-03-26T00:00:00\", \"2020-03-27T00:00:00\", \"2020-03-28T00:00:00\", \"2020-03-29T00:00:00\"], \"xaxis\": \"x\", \"y\": [28, 30, 36, 39, 52, 61, 107, 126, 143, 222, 284, 472, 623, 852, 1124, 1487, 2011, 2616, 3244, 3946, 4683, 5149, 6294, 8057, 9394, 10864, 12582, 14351, 16120, 18176, 18887, 22883, 23391, 25224, 27902, 30381, 33271, 36705, 39776, 42710, 45596, 48222, 51164, 53790, 55859, 58350, 60686, 62486, 64396, 66995, 68316, 70243, 72616, 76026, 78079, 80831, 83303, 84966, 87411, 91682, 97889, 98341, 107890, 113604, 121966, 130659, 138949, 148616], \"yaxis\": \"y\"}],\n",
              "                        {\"legend\": {\"tracegroupgap\": 0}, \"template\": {\"data\": {\"bar\": [{\"error_x\": {\"color\": \"#2a3f5f\"}, \"error_y\": {\"color\": \"#2a3f5f\"}, \"marker\": {\"line\": {\"color\": \"#E5ECF6\", \"width\": 0.5}}, \"type\": \"bar\"}], \"barpolar\": [{\"marker\": {\"line\": {\"color\": \"#E5ECF6\", \"width\": 0.5}}, \"type\": \"barpolar\"}], \"carpet\": [{\"aaxis\": {\"endlinecolor\": \"#2a3f5f\", \"gridcolor\": \"white\", \"linecolor\": \"white\", \"minorgridcolor\": \"white\", \"startlinecolor\": \"#2a3f5f\"}, \"baxis\": {\"endlinecolor\": \"#2a3f5f\", \"gridcolor\": \"white\", \"linecolor\": \"white\", \"minorgridcolor\": \"white\", \"startlinecolor\": \"#2a3f5f\"}, \"type\": \"carpet\"}], \"choropleth\": [{\"colorbar\": {\"outlinewidth\": 0, \"ticks\": \"\"}, \"type\": \"choropleth\"}], \"contour\": [{\"colorbar\": {\"outlinewidth\": 0, \"ticks\": \"\"}, \"colorscale\": [[0.0, \"#0d0887\"], [0.1111111111111111, \"#46039f\"], [0.2222222222222222, \"#7201a8\"], [0.3333333333333333, \"#9c179e\"], [0.4444444444444444, \"#bd3786\"], [0.5555555555555556, \"#d8576b\"], [0.6666666666666666, \"#ed7953\"], [0.7777777777777778, \"#fb9f3a\"], [0.8888888888888888, \"#fdca26\"], [1.0, \"#f0f921\"]], \"type\": \"contour\"}], \"contourcarpet\": [{\"colorbar\": {\"outlinewidth\": 0, \"ticks\": \"\"}, \"type\": \"contourcarpet\"}], \"heatmap\": [{\"colorbar\": {\"outlinewidth\": 0, \"ticks\": \"\"}, \"colorscale\": [[0.0, \"#0d0887\"], [0.1111111111111111, \"#46039f\"], [0.2222222222222222, \"#7201a8\"], [0.3333333333333333, \"#9c179e\"], [0.4444444444444444, \"#bd3786\"], [0.5555555555555556, \"#d8576b\"], [0.6666666666666666, \"#ed7953\"], [0.7777777777777778, \"#fb9f3a\"], [0.8888888888888888, \"#fdca26\"], [1.0, \"#f0f921\"]], \"type\": \"heatmap\"}], \"heatmapgl\": [{\"colorbar\": {\"outlinewidth\": 0, \"ticks\": \"\"}, \"colorscale\": [[0.0, \"#0d0887\"], [0.1111111111111111, \"#46039f\"], [0.2222222222222222, \"#7201a8\"], [0.3333333333333333, \"#9c179e\"], [0.4444444444444444, \"#bd3786\"], [0.5555555555555556, \"#d8576b\"], [0.6666666666666666, \"#ed7953\"], [0.7777777777777778, \"#fb9f3a\"], [0.8888888888888888, \"#fdca26\"], [1.0, \"#f0f921\"]], \"type\": \"heatmapgl\"}], \"histogram\": [{\"marker\": {\"colorbar\": {\"outlinewidth\": 0, \"ticks\": \"\"}}, \"type\": \"histogram\"}], \"histogram2d\": [{\"colorbar\": {\"outlinewidth\": 0, \"ticks\": \"\"}, \"colorscale\": [[0.0, \"#0d0887\"], [0.1111111111111111, \"#46039f\"], [0.2222222222222222, \"#7201a8\"], [0.3333333333333333, \"#9c179e\"], [0.4444444444444444, \"#bd3786\"], [0.5555555555555556, \"#d8576b\"], [0.6666666666666666, \"#ed7953\"], [0.7777777777777778, \"#fb9f3a\"], [0.8888888888888888, \"#fdca26\"], [1.0, \"#f0f921\"]], \"type\": \"histogram2d\"}], \"histogram2dcontour\": [{\"colorbar\": {\"outlinewidth\": 0, \"ticks\": \"\"}, \"colorscale\": [[0.0, \"#0d0887\"], [0.1111111111111111, \"#46039f\"], [0.2222222222222222, \"#7201a8\"], [0.3333333333333333, \"#9c179e\"], [0.4444444444444444, \"#bd3786\"], [0.5555555555555556, \"#d8576b\"], [0.6666666666666666, \"#ed7953\"], [0.7777777777777778, \"#fb9f3a\"], [0.8888888888888888, \"#fdca26\"], [1.0, \"#f0f921\"]], \"type\": \"histogram2dcontour\"}], \"mesh3d\": [{\"colorbar\": {\"outlinewidth\": 0, \"ticks\": \"\"}, \"type\": \"mesh3d\"}], \"parcoords\": [{\"line\": {\"colorbar\": {\"outlinewidth\": 0, \"ticks\": \"\"}}, \"type\": \"parcoords\"}], \"pie\": [{\"automargin\": true, \"type\": \"pie\"}], \"scatter\": [{\"marker\": {\"colorbar\": {\"outlinewidth\": 0, \"ticks\": \"\"}}, \"type\": \"scatter\"}], \"scatter3d\": [{\"line\": {\"colorbar\": {\"outlinewidth\": 0, \"ticks\": \"\"}}, \"marker\": {\"colorbar\": {\"outlinewidth\": 0, \"ticks\": \"\"}}, \"type\": \"scatter3d\"}], \"scattercarpet\": [{\"marker\": {\"colorbar\": {\"outlinewidth\": 0, \"ticks\": \"\"}}, \"type\": \"scattercarpet\"}], \"scattergeo\": [{\"marker\": {\"colorbar\": {\"outlinewidth\": 0, \"ticks\": \"\"}}, \"type\": \"scattergeo\"}], \"scattergl\": [{\"marker\": {\"colorbar\": {\"outlinewidth\": 0, \"ticks\": \"\"}}, \"type\": \"scattergl\"}], \"scattermapbox\": [{\"marker\": {\"colorbar\": {\"outlinewidth\": 0, \"ticks\": \"\"}}, \"type\": \"scattermapbox\"}], \"scatterpolar\": [{\"marker\": {\"colorbar\": {\"outlinewidth\": 0, \"ticks\": \"\"}}, \"type\": \"scatterpolar\"}], \"scatterpolargl\": [{\"marker\": {\"colorbar\": {\"outlinewidth\": 0, \"ticks\": \"\"}}, \"type\": \"scatterpolargl\"}], \"scatterternary\": [{\"marker\": {\"colorbar\": {\"outlinewidth\": 0, \"ticks\": \"\"}}, \"type\": \"scatterternary\"}], \"surface\": [{\"colorbar\": {\"outlinewidth\": 0, \"ticks\": \"\"}, \"colorscale\": [[0.0, \"#0d0887\"], [0.1111111111111111, \"#46039f\"], [0.2222222222222222, \"#7201a8\"], [0.3333333333333333, \"#9c179e\"], [0.4444444444444444, \"#bd3786\"], [0.5555555555555556, \"#d8576b\"], [0.6666666666666666, \"#ed7953\"], [0.7777777777777778, \"#fb9f3a\"], [0.8888888888888888, \"#fdca26\"], [1.0, \"#f0f921\"]], \"type\": \"surface\"}], \"table\": [{\"cells\": {\"fill\": {\"color\": \"#EBF0F8\"}, \"line\": {\"color\": \"white\"}}, \"header\": {\"fill\": {\"color\": \"#C8D4E3\"}, \"line\": {\"color\": \"white\"}}, \"type\": \"table\"}]}, \"layout\": {\"annotationdefaults\": {\"arrowcolor\": \"#2a3f5f\", \"arrowhead\": 0, \"arrowwidth\": 1}, \"coloraxis\": {\"colorbar\": {\"outlinewidth\": 0, \"ticks\": \"\"}}, \"colorscale\": {\"diverging\": [[0, \"#8e0152\"], [0.1, \"#c51b7d\"], [0.2, \"#de77ae\"], [0.3, \"#f1b6da\"], [0.4, \"#fde0ef\"], [0.5, \"#f7f7f7\"], [0.6, \"#e6f5d0\"], [0.7, \"#b8e186\"], [0.8, \"#7fbc41\"], [0.9, \"#4d9221\"], [1, \"#276419\"]], \"sequential\": [[0.0, \"#0d0887\"], [0.1111111111111111, \"#46039f\"], [0.2222222222222222, \"#7201a8\"], [0.3333333333333333, \"#9c179e\"], [0.4444444444444444, \"#bd3786\"], [0.5555555555555556, \"#d8576b\"], [0.6666666666666666, \"#ed7953\"], [0.7777777777777778, \"#fb9f3a\"], [0.8888888888888888, \"#fdca26\"], [1.0, \"#f0f921\"]], \"sequentialminus\": [[0.0, \"#0d0887\"], [0.1111111111111111, \"#46039f\"], [0.2222222222222222, \"#7201a8\"], [0.3333333333333333, \"#9c179e\"], [0.4444444444444444, \"#bd3786\"], [0.5555555555555556, \"#d8576b\"], [0.6666666666666666, \"#ed7953\"], [0.7777777777777778, \"#fb9f3a\"], [0.8888888888888888, \"#fdca26\"], [1.0, \"#f0f921\"]]}, \"colorway\": [\"#636efa\", \"#EF553B\", \"#00cc96\", \"#ab63fa\", \"#FFA15A\", \"#19d3f3\", \"#FF6692\", \"#B6E880\", \"#FF97FF\", \"#FECB52\"], \"font\": {\"color\": \"#2a3f5f\"}, \"geo\": {\"bgcolor\": \"white\", \"lakecolor\": \"white\", \"landcolor\": \"#E5ECF6\", \"showlakes\": true, \"showland\": true, \"subunitcolor\": \"white\"}, \"hoverlabel\": {\"align\": \"left\"}, \"hovermode\": \"closest\", \"mapbox\": {\"style\": \"light\"}, \"paper_bgcolor\": \"white\", \"plot_bgcolor\": \"#E5ECF6\", \"polar\": {\"angularaxis\": {\"gridcolor\": \"white\", \"linecolor\": \"white\", \"ticks\": \"\"}, \"bgcolor\": \"#E5ECF6\", \"radialaxis\": {\"gridcolor\": \"white\", \"linecolor\": \"white\", \"ticks\": \"\"}}, \"scene\": {\"xaxis\": {\"backgroundcolor\": \"#E5ECF6\", \"gridcolor\": \"white\", \"gridwidth\": 2, \"linecolor\": \"white\", \"showbackground\": true, \"ticks\": \"\", \"zerolinecolor\": \"white\"}, \"yaxis\": {\"backgroundcolor\": \"#E5ECF6\", \"gridcolor\": \"white\", \"gridwidth\": 2, \"linecolor\": \"white\", \"showbackground\": true, \"ticks\": \"\", \"zerolinecolor\": \"white\"}, \"zaxis\": {\"backgroundcolor\": \"#E5ECF6\", \"gridcolor\": \"white\", \"gridwidth\": 2, \"linecolor\": \"white\", \"showbackground\": true, \"ticks\": \"\", \"zerolinecolor\": \"white\"}}, \"shapedefaults\": {\"line\": {\"color\": \"#2a3f5f\"}}, \"ternary\": {\"aaxis\": {\"gridcolor\": \"white\", \"linecolor\": \"white\", \"ticks\": \"\"}, \"baxis\": {\"gridcolor\": \"white\", \"linecolor\": \"white\", \"ticks\": \"\"}, \"bgcolor\": \"#E5ECF6\", \"caxis\": {\"gridcolor\": \"white\", \"linecolor\": \"white\", \"ticks\": \"\"}}, \"title\": {\"x\": 0.05}, \"xaxis\": {\"automargin\": true, \"gridcolor\": \"white\", \"linecolor\": \"white\", \"ticks\": \"\", \"title\": {\"standoff\": 15}, \"zerolinecolor\": \"white\", \"zerolinewidth\": 2}, \"yaxis\": {\"automargin\": true, \"gridcolor\": \"white\", \"linecolor\": \"white\", \"ticks\": \"\", \"title\": {\"standoff\": 15}, \"zerolinecolor\": \"white\", \"zerolinewidth\": 2}}}, \"title\": {\"text\": \"Time Series of COVID\"}, \"xaxis\": {\"anchor\": \"y\", \"domain\": [0.0, 1.0], \"range\": [\"2020-02-20\", \"2020-03-29\"], \"title\": {\"text\": \"Date\"}}, \"yaxis\": {\"anchor\": \"x\", \"domain\": [0.0, 1.0], \"title\": {\"text\": \"value\"}}},\n",
              "                        {\"responsive\": true}\n",
              "                    ).then(function(){\n",
              "                            \n",
              "var gd = document.getElementById('133d1da9-d8ca-454e-8e64-fe44616af0ba');\n",
              "var x = new MutationObserver(function (mutations, observer) {{\n",
              "        var display = window.getComputedStyle(gd).display;\n",
              "        if (!display || display === 'none') {{\n",
              "            console.log([gd, 'removed!']);\n",
              "            Plotly.purge(gd);\n",
              "            observer.disconnect();\n",
              "        }}\n",
              "}});\n",
              "\n",
              "// Listen for the removal of the full notebook cells\n",
              "var notebookContainer = gd.closest('#notebook-container');\n",
              "if (notebookContainer) {{\n",
              "    x.observe(notebookContainer, {childList: true});\n",
              "}}\n",
              "\n",
              "// Listen for the clearing of the current output cell\n",
              "var outputEl = gd.closest('.output');\n",
              "if (outputEl) {{\n",
              "    x.observe(outputEl, {childList: true});\n",
              "}}\n",
              "\n",
              "                        })\n",
              "                };\n",
              "                \n",
              "            </script>\n",
              "        </div>\n",
              "</body>\n",
              "</html>"
            ]
          },
          "metadata": {
            "tags": []
          }
        }
      ]
    },
    {
      "cell_type": "markdown",
      "metadata": {
        "id": "q2tqM-a5_B-D",
        "colab_type": "text"
      },
      "source": [
        "## Display of how the planet is with respect to confirmed cases of COVID-19"
      ]
    },
    {
      "cell_type": "code",
      "metadata": {
        "id": "HwRkqcPhHBpR",
        "colab_type": "code",
        "colab": {}
      },
      "source": [
        "data = dict(type='choropleth',\n",
        "            locations = march_accumulate['Country/Region'],\n",
        "            locationmode = 'country names',\n",
        "            colorscale = 'Reds',\n",
        "            # text = march['Brand']\n",
        "            z = march_accumulate['Confirmed'],\n",
        "            colorbar = {'title':\"number of cases\"}\n",
        "            )"
      ],
      "execution_count": 0,
      "outputs": []
    },
    {
      "cell_type": "code",
      "metadata": {
        "id": "q2TMV7VMHZOR",
        "colab_type": "code",
        "colab": {}
      },
      "source": [
        " layout = dict(title = 'Confirmed cases in Global Map',\n",
        "              geo = dict()\n",
        "             )"
      ],
      "execution_count": 0,
      "outputs": []
    },
    {
      "cell_type": "code",
      "metadata": {
        "id": "rUAXU-lrHD6d",
        "colab_type": "code",
        "colab": {
          "base_uri": "https://localhost:8080/",
          "height": 542
        },
        "outputId": "c6b0ad24-e458-439c-8c1c-cfb83abb69ad"
      },
      "source": [
        "choromap = go.Figure(data = [data],layout = layout)\n",
        "iplot(choromap)"
      ],
      "execution_count": 19,
      "outputs": [
        {
          "output_type": "display_data",
          "data": {
            "text/html": [
              "<html>\n",
              "<head><meta charset=\"utf-8\" /></head>\n",
              "<body>\n",
              "    <div>\n",
              "            <script src=\"https://cdnjs.cloudflare.com/ajax/libs/mathjax/2.7.5/MathJax.js?config=TeX-AMS-MML_SVG\"></script><script type=\"text/javascript\">if (window.MathJax) {MathJax.Hub.Config({SVG: {font: \"STIX-Web\"}});}</script>\n",
              "                <script type=\"text/javascript\">window.PlotlyConfig = {MathJaxConfig: 'local'};</script>\n",
              "        <script src=\"https://cdn.plot.ly/plotly-latest.min.js\"></script>    \n",
              "            <div id=\"a6c3a20f-9bc0-47ec-bf48-5655d1ba39c1\" class=\"plotly-graph-div\" style=\"height:525px; width:100%;\"></div>\n",
              "            <script type=\"text/javascript\">\n",
              "                \n",
              "                    window.PLOTLYENV=window.PLOTLYENV || {};\n",
              "                    \n",
              "                if (document.getElementById(\"a6c3a20f-9bc0-47ec-bf48-5655d1ba39c1\")) {\n",
              "                    Plotly.newPlot(\n",
              "                        'a6c3a20f-9bc0-47ec-bf48-5655d1ba39c1',\n",
              "                        [{\"colorbar\": {\"title\": {\"text\": \"number of cases\"}}, \"colorscale\": [[0.0, \"rgb(255,245,240)\"], [0.125, \"rgb(254,224,210)\"], [0.25, \"rgb(252,187,161)\"], [0.375, \"rgb(252,146,114)\"], [0.5, \"rgb(251,106,74)\"], [0.625, \"rgb(239,59,44)\"], [0.75, \"rgb(203,24,29)\"], [0.875, \"rgb(165,15,21)\"], [1.0, \"rgb(103,0,13)\"]], \"locationmode\": \"country names\", \"locations\": [\"China\", \"Italy\", \"US\", \"Spain\", \"Germany\", \"Iran\", \"France\", \"South Korea\", \"Switzerland\", \"United Kingdom\", \"Netherlands\", \"Austria\", \"Belgium\", \"Norway\", \"Canada\", \"Sweden\", \"Turkey\", \"Portugal\", \"Denmark\", \"Brazil\", \"Australia\", \"Japan\", \"Israel\", \"Malaysia\", \"Diamond Princess\", \"Czechia\", \"Ireland\", \"Luxembourg\", \"Chile\", \"Ecuador\", \"Pakistan\", \"Poland\", \"Greece\", \"Finland\", \"Romania\", \"Thailand\", \"Singapore\", \"Saudi Arabia\", \"Iceland\", \"Indonesia\", \"Qatar\", \"Russia\", \"Philippines\", \"India\", \"South Africa\", \"Slovenia\", \"Bahrain\", \"Estonia\", \"Egypt\", \"Peru\", \"Panama\", \"Iraq\", \"Mexico\", \"Croatia\", \"Argentina\", \"Colombia\", \"Lebanon\", \"United Arab Emirates\", \"Serbia\", \"Dominican Republic\", \"Kuwait\", \"Algeria\", \"Taiwan*\", \"Armenia\", \"San Marino\", \"Bulgaria\", \"Slovakia\", \"Lithuania\", \"Morocco\", \"Hungary\", \"Latvia\", \"New Zealand\", \"Costa Rica\", \"Vietnam\", \"Uruguay\", \"Andorra\", \"Bosnia and Herzegovina\", \"Jordan\", \"Ukraine\", \"North Macedonia\", \"Tunisia\", \"Albania\", \"Moldova\", \"Cyprus\", \"Brunei\", \"Burkina Faso\", \"Malta\", \"Azerbaijan\", \"Oman\", \"Kazakhstan\", \"Sri Lanka\", \"Belarus\", \"West Bank and Gaza\", \"Senegal\", \"Georgia\", \"Venezuela\", \"Cambodia\", \"Afghanistan\", \"Ghana\", \"Uzbekistan\", \"Cameroon\", \"Cote d'Ivoire\", \"Cuba\", \"Trinidad and Tobago\", \"Nigeria\", \"Mauritius\", \"Liechtenstein\", \"Honduras\", \"Montenegro\", \"Bolivia\", \"Congo (Kinshasa)\", \"Bangladesh\", \"Rwanda\", \"Paraguay\", \"Kyrgyzstan\", \"Kosovo\", \"Monaco\", \"Jamaica\", \"Kenya\", \"Guatemala\", \"Maldives\", \"Togo\", \"Barbados\", \"Madagascar\", \"Ethiopia\", \"Uganda\", \"Mongolia\", \"Tanzania\", \"Zambia\", \"Guyana\", \"Equatorial Guinea\", \"El Salvador\", \"Seychelles\", \"Djibouti\", \"Namibia\", \"Bahamas\", \"Suriname\", \"Haiti\", \"Niger\", \"Gabon\", \"Guinea\", \"Congo (Brazzaville)\", \"Eswatini\", \"Dominica\", \"Benin\", \"Mali\", \"Antigua and Barbuda\", \"Nepal\", \"Holy See\", \"Saint Lucia\", \"Mozambique\", \"Sudan\", \"Zimbabwe\", \"Eritrea\", \"Bhutan\", \"Cabo Verde\", \"Fiji\", \"Liberia\", \"Central African Republic\", \"Mauritania\", \"Angola\", \"Grenada\", \"Laos\", \"Syria\", \"Gambia\", \"Burma\", \"Nicaragua\", \"Chad\", \"Somalia\", \"Saint Vincent and the Grenadines\", \"Libya\", \"Belize\", \"Guinea-Bissau\", \"Saint Kitts and Nevis\", \"Papua New Guinea\", \"Timor-Leste\", \"MS Zaandam\"], \"type\": \"choropleth\", \"z\": [2350949, 999590, 736329, 558667, 449486, 439847, 312319, 225471, 122574, 117563, 77526, 65004, 64335, 42362, 36090, 35404, 34418, 33068, 26928, 26831, 26759, 24223, 22612, 22244, 20544, 19675, 17163, 13043, 12476, 12267, 11922, 11858, 10871, 10612, 10380, 10305, 9471, 9250, 9077, 9029, 8818, 8051, 7823, 7604, 7494, 7051, 6683, 5890, 5774, 5687, 5147, 5011, 4834, 4747, 4655, 4428, 4261, 4240, 4180, 4130, 3599, 3523, 3249, 3085, 2995, 2818, 2741, 2595, 2585, 2573, 2503, 2401, 2310, 2099, 2082, 2041, 2038, 1879, 1871, 1855, 1770, 1766, 1677, 1597, 1432, 1394, 1382, 1357, 1329, 1291, 1206, 1161, 1120, 1107, 1043, 1026, 1009, 875, 833, 741, 735, 704, 664, 588, 577, 570, 564, 541, 502, 478, 463, 446, 434, 417, 386, 342, 332, 310, 261, 259, 254, 214, 188, 171, 154, 134, 126, 125, 124, 121, 106, 94, 93, 77, 75, 71, 71, 66, 65, 63, 60, 59, 57, 56, 53, 53, 47, 46, 46, 44, 40, 40, 38, 38, 38, 37, 37, 35, 35, 35, 34, 34, 33, 32, 27, 26, 24, 23, 21, 16, 15, 12, 10, 10, 10, 8, 4]}],\n",
              "                        {\"template\": {\"data\": {\"bar\": [{\"error_x\": {\"color\": \"#2a3f5f\"}, \"error_y\": {\"color\": \"#2a3f5f\"}, \"marker\": {\"line\": {\"color\": \"#E5ECF6\", \"width\": 0.5}}, \"type\": \"bar\"}], \"barpolar\": [{\"marker\": {\"line\": {\"color\": \"#E5ECF6\", \"width\": 0.5}}, \"type\": \"barpolar\"}], \"carpet\": [{\"aaxis\": {\"endlinecolor\": \"#2a3f5f\", \"gridcolor\": \"white\", \"linecolor\": \"white\", \"minorgridcolor\": \"white\", \"startlinecolor\": \"#2a3f5f\"}, \"baxis\": {\"endlinecolor\": \"#2a3f5f\", \"gridcolor\": \"white\", \"linecolor\": \"white\", \"minorgridcolor\": \"white\", \"startlinecolor\": \"#2a3f5f\"}, \"type\": \"carpet\"}], \"choropleth\": [{\"colorbar\": {\"outlinewidth\": 0, \"ticks\": \"\"}, \"type\": \"choropleth\"}], \"contour\": [{\"colorbar\": {\"outlinewidth\": 0, \"ticks\": \"\"}, \"colorscale\": [[0.0, \"#0d0887\"], [0.1111111111111111, \"#46039f\"], [0.2222222222222222, \"#7201a8\"], [0.3333333333333333, \"#9c179e\"], [0.4444444444444444, \"#bd3786\"], [0.5555555555555556, \"#d8576b\"], [0.6666666666666666, \"#ed7953\"], [0.7777777777777778, \"#fb9f3a\"], [0.8888888888888888, \"#fdca26\"], [1.0, \"#f0f921\"]], \"type\": \"contour\"}], \"contourcarpet\": [{\"colorbar\": {\"outlinewidth\": 0, \"ticks\": \"\"}, \"type\": \"contourcarpet\"}], \"heatmap\": [{\"colorbar\": {\"outlinewidth\": 0, \"ticks\": \"\"}, \"colorscale\": [[0.0, \"#0d0887\"], [0.1111111111111111, \"#46039f\"], [0.2222222222222222, \"#7201a8\"], [0.3333333333333333, \"#9c179e\"], [0.4444444444444444, \"#bd3786\"], [0.5555555555555556, \"#d8576b\"], [0.6666666666666666, \"#ed7953\"], [0.7777777777777778, \"#fb9f3a\"], [0.8888888888888888, \"#fdca26\"], [1.0, \"#f0f921\"]], \"type\": \"heatmap\"}], \"heatmapgl\": [{\"colorbar\": {\"outlinewidth\": 0, \"ticks\": \"\"}, \"colorscale\": [[0.0, \"#0d0887\"], [0.1111111111111111, \"#46039f\"], [0.2222222222222222, \"#7201a8\"], [0.3333333333333333, \"#9c179e\"], [0.4444444444444444, \"#bd3786\"], [0.5555555555555556, \"#d8576b\"], [0.6666666666666666, \"#ed7953\"], [0.7777777777777778, \"#fb9f3a\"], [0.8888888888888888, \"#fdca26\"], [1.0, \"#f0f921\"]], \"type\": \"heatmapgl\"}], \"histogram\": [{\"marker\": {\"colorbar\": {\"outlinewidth\": 0, \"ticks\": \"\"}}, \"type\": \"histogram\"}], \"histogram2d\": [{\"colorbar\": {\"outlinewidth\": 0, \"ticks\": \"\"}, \"colorscale\": [[0.0, \"#0d0887\"], [0.1111111111111111, \"#46039f\"], [0.2222222222222222, \"#7201a8\"], [0.3333333333333333, \"#9c179e\"], [0.4444444444444444, \"#bd3786\"], [0.5555555555555556, \"#d8576b\"], [0.6666666666666666, \"#ed7953\"], [0.7777777777777778, \"#fb9f3a\"], [0.8888888888888888, \"#fdca26\"], [1.0, \"#f0f921\"]], \"type\": \"histogram2d\"}], \"histogram2dcontour\": [{\"colorbar\": {\"outlinewidth\": 0, \"ticks\": \"\"}, \"colorscale\": [[0.0, \"#0d0887\"], [0.1111111111111111, \"#46039f\"], [0.2222222222222222, \"#7201a8\"], [0.3333333333333333, \"#9c179e\"], [0.4444444444444444, \"#bd3786\"], [0.5555555555555556, \"#d8576b\"], [0.6666666666666666, \"#ed7953\"], [0.7777777777777778, \"#fb9f3a\"], [0.8888888888888888, \"#fdca26\"], [1.0, \"#f0f921\"]], \"type\": \"histogram2dcontour\"}], \"mesh3d\": [{\"colorbar\": {\"outlinewidth\": 0, \"ticks\": \"\"}, \"type\": \"mesh3d\"}], \"parcoords\": [{\"line\": {\"colorbar\": {\"outlinewidth\": 0, \"ticks\": \"\"}}, \"type\": \"parcoords\"}], \"pie\": [{\"automargin\": true, \"type\": \"pie\"}], \"scatter\": [{\"marker\": {\"colorbar\": {\"outlinewidth\": 0, \"ticks\": \"\"}}, \"type\": \"scatter\"}], \"scatter3d\": [{\"line\": {\"colorbar\": {\"outlinewidth\": 0, \"ticks\": \"\"}}, \"marker\": {\"colorbar\": {\"outlinewidth\": 0, \"ticks\": \"\"}}, \"type\": \"scatter3d\"}], \"scattercarpet\": [{\"marker\": {\"colorbar\": {\"outlinewidth\": 0, \"ticks\": \"\"}}, \"type\": \"scattercarpet\"}], \"scattergeo\": [{\"marker\": {\"colorbar\": {\"outlinewidth\": 0, \"ticks\": \"\"}}, \"type\": \"scattergeo\"}], \"scattergl\": [{\"marker\": {\"colorbar\": {\"outlinewidth\": 0, \"ticks\": \"\"}}, \"type\": \"scattergl\"}], \"scattermapbox\": [{\"marker\": {\"colorbar\": {\"outlinewidth\": 0, \"ticks\": \"\"}}, \"type\": \"scattermapbox\"}], \"scatterpolar\": [{\"marker\": {\"colorbar\": {\"outlinewidth\": 0, \"ticks\": \"\"}}, \"type\": \"scatterpolar\"}], \"scatterpolargl\": [{\"marker\": {\"colorbar\": {\"outlinewidth\": 0, \"ticks\": \"\"}}, \"type\": \"scatterpolargl\"}], \"scatterternary\": [{\"marker\": {\"colorbar\": {\"outlinewidth\": 0, \"ticks\": \"\"}}, \"type\": \"scatterternary\"}], \"surface\": [{\"colorbar\": {\"outlinewidth\": 0, \"ticks\": \"\"}, \"colorscale\": [[0.0, \"#0d0887\"], [0.1111111111111111, \"#46039f\"], [0.2222222222222222, \"#7201a8\"], [0.3333333333333333, \"#9c179e\"], [0.4444444444444444, \"#bd3786\"], [0.5555555555555556, \"#d8576b\"], [0.6666666666666666, \"#ed7953\"], [0.7777777777777778, \"#fb9f3a\"], [0.8888888888888888, \"#fdca26\"], [1.0, \"#f0f921\"]], \"type\": \"surface\"}], \"table\": [{\"cells\": {\"fill\": {\"color\": \"#EBF0F8\"}, \"line\": {\"color\": \"white\"}}, \"header\": {\"fill\": {\"color\": \"#C8D4E3\"}, \"line\": {\"color\": \"white\"}}, \"type\": \"table\"}]}, \"layout\": {\"annotationdefaults\": {\"arrowcolor\": \"#2a3f5f\", \"arrowhead\": 0, \"arrowwidth\": 1}, \"coloraxis\": {\"colorbar\": {\"outlinewidth\": 0, \"ticks\": \"\"}}, \"colorscale\": {\"diverging\": [[0, \"#8e0152\"], [0.1, \"#c51b7d\"], [0.2, \"#de77ae\"], [0.3, \"#f1b6da\"], [0.4, \"#fde0ef\"], [0.5, \"#f7f7f7\"], [0.6, \"#e6f5d0\"], [0.7, \"#b8e186\"], [0.8, \"#7fbc41\"], [0.9, \"#4d9221\"], [1, \"#276419\"]], \"sequential\": [[0.0, \"#0d0887\"], [0.1111111111111111, \"#46039f\"], [0.2222222222222222, \"#7201a8\"], [0.3333333333333333, \"#9c179e\"], [0.4444444444444444, \"#bd3786\"], [0.5555555555555556, \"#d8576b\"], [0.6666666666666666, \"#ed7953\"], [0.7777777777777778, \"#fb9f3a\"], [0.8888888888888888, \"#fdca26\"], [1.0, \"#f0f921\"]], \"sequentialminus\": [[0.0, \"#0d0887\"], [0.1111111111111111, \"#46039f\"], [0.2222222222222222, \"#7201a8\"], [0.3333333333333333, \"#9c179e\"], [0.4444444444444444, \"#bd3786\"], [0.5555555555555556, \"#d8576b\"], [0.6666666666666666, \"#ed7953\"], [0.7777777777777778, \"#fb9f3a\"], [0.8888888888888888, \"#fdca26\"], [1.0, \"#f0f921\"]]}, \"colorway\": [\"#636efa\", \"#EF553B\", \"#00cc96\", \"#ab63fa\", \"#FFA15A\", \"#19d3f3\", \"#FF6692\", \"#B6E880\", \"#FF97FF\", \"#FECB52\"], \"font\": {\"color\": \"#2a3f5f\"}, \"geo\": {\"bgcolor\": \"white\", \"lakecolor\": \"white\", \"landcolor\": \"#E5ECF6\", \"showlakes\": true, \"showland\": true, \"subunitcolor\": \"white\"}, \"hoverlabel\": {\"align\": \"left\"}, \"hovermode\": \"closest\", \"mapbox\": {\"style\": \"light\"}, \"paper_bgcolor\": \"white\", \"plot_bgcolor\": \"#E5ECF6\", \"polar\": {\"angularaxis\": {\"gridcolor\": \"white\", \"linecolor\": \"white\", \"ticks\": \"\"}, \"bgcolor\": \"#E5ECF6\", \"radialaxis\": {\"gridcolor\": \"white\", \"linecolor\": \"white\", \"ticks\": \"\"}}, \"scene\": {\"xaxis\": {\"backgroundcolor\": \"#E5ECF6\", \"gridcolor\": \"white\", \"gridwidth\": 2, \"linecolor\": \"white\", \"showbackground\": true, \"ticks\": \"\", \"zerolinecolor\": \"white\"}, \"yaxis\": {\"backgroundcolor\": \"#E5ECF6\", \"gridcolor\": \"white\", \"gridwidth\": 2, \"linecolor\": \"white\", \"showbackground\": true, \"ticks\": \"\", \"zerolinecolor\": \"white\"}, \"zaxis\": {\"backgroundcolor\": \"#E5ECF6\", \"gridcolor\": \"white\", \"gridwidth\": 2, \"linecolor\": \"white\", \"showbackground\": true, \"ticks\": \"\", \"zerolinecolor\": \"white\"}}, \"shapedefaults\": {\"line\": {\"color\": \"#2a3f5f\"}}, \"ternary\": {\"aaxis\": {\"gridcolor\": \"white\", \"linecolor\": \"white\", \"ticks\": \"\"}, \"baxis\": {\"gridcolor\": \"white\", \"linecolor\": \"white\", \"ticks\": \"\"}, \"bgcolor\": \"#E5ECF6\", \"caxis\": {\"gridcolor\": \"white\", \"linecolor\": \"white\", \"ticks\": \"\"}}, \"title\": {\"x\": 0.05}, \"xaxis\": {\"automargin\": true, \"gridcolor\": \"white\", \"linecolor\": \"white\", \"ticks\": \"\", \"title\": {\"standoff\": 15}, \"zerolinecolor\": \"white\", \"zerolinewidth\": 2}, \"yaxis\": {\"automargin\": true, \"gridcolor\": \"white\", \"linecolor\": \"white\", \"ticks\": \"\", \"title\": {\"standoff\": 15}, \"zerolinecolor\": \"white\", \"zerolinewidth\": 2}}}, \"title\": {\"text\": \"Confirmed cases in Global Map\"}},\n",
              "                        {\"responsive\": true}\n",
              "                    ).then(function(){\n",
              "                            \n",
              "var gd = document.getElementById('a6c3a20f-9bc0-47ec-bf48-5655d1ba39c1');\n",
              "var x = new MutationObserver(function (mutations, observer) {{\n",
              "        var display = window.getComputedStyle(gd).display;\n",
              "        if (!display || display === 'none') {{\n",
              "            console.log([gd, 'removed!']);\n",
              "            Plotly.purge(gd);\n",
              "            observer.disconnect();\n",
              "        }}\n",
              "}});\n",
              "\n",
              "// Listen for the removal of the full notebook cells\n",
              "var notebookContainer = gd.closest('#notebook-container');\n",
              "if (notebookContainer) {{\n",
              "    x.observe(notebookContainer, {childList: true});\n",
              "}}\n",
              "\n",
              "// Listen for the clearing of the current output cell\n",
              "var outputEl = gd.closest('.output');\n",
              "if (outputEl) {{\n",
              "    x.observe(outputEl, {childList: true});\n",
              "}}\n",
              "\n",
              "                        })\n",
              "                };\n",
              "                \n",
              "            </script>\n",
              "        </div>\n",
              "</body>\n",
              "</html>"
            ]
          },
          "metadata": {
            "tags": []
          }
        }
      ]
    },
    {
      "cell_type": "markdown",
      "metadata": {
        "id": "9AgXFGia_sIe",
        "colab_type": "text"
      },
      "source": [
        "## Display of the average temperatures of those countries"
      ]
    },
    {
      "cell_type": "code",
      "metadata": {
        "id": "dMU0umCmKKp5",
        "colab_type": "code",
        "colab": {}
      },
      "source": [
        "data = dict(type='choropleth',\n",
        "            locations = march_accumulate['Country/Region'],\n",
        "            locationmode = 'country names',\n",
        "            colorscale = 'Reds',\n",
        "            text = march_accumulate['Confirmed'],\n",
        "            z = mergeTable['AverTemp'],\n",
        "            colorbar = {'title':\"Average Temperature(。C)\"}\n",
        "            )"
      ],
      "execution_count": 0,
      "outputs": []
    },
    {
      "cell_type": "code",
      "metadata": {
        "id": "at4V-6cPKDd8",
        "colab_type": "code",
        "colab": {}
      },
      "source": [
        " layout = dict(title = 'Confirmed Cases in Global Average Temperature Map',\n",
        "              geo = dict()\n",
        "             )"
      ],
      "execution_count": 0,
      "outputs": []
    },
    {
      "cell_type": "code",
      "metadata": {
        "id": "iJoRqx3tKHYW",
        "colab_type": "code",
        "colab": {
          "base_uri": "https://localhost:8080/",
          "height": 542
        },
        "outputId": "f24a99fb-1c70-4b91-bf81-4c9e3a0e3790"
      },
      "source": [
        "choromap = go.Figure(data = [data],layout = layout)\n",
        "iplot(choromap)"
      ],
      "execution_count": 22,
      "outputs": [
        {
          "output_type": "display_data",
          "data": {
            "text/html": [
              "<html>\n",
              "<head><meta charset=\"utf-8\" /></head>\n",
              "<body>\n",
              "    <div>\n",
              "            <script src=\"https://cdnjs.cloudflare.com/ajax/libs/mathjax/2.7.5/MathJax.js?config=TeX-AMS-MML_SVG\"></script><script type=\"text/javascript\">if (window.MathJax) {MathJax.Hub.Config({SVG: {font: \"STIX-Web\"}});}</script>\n",
              "                <script type=\"text/javascript\">window.PlotlyConfig = {MathJaxConfig: 'local'};</script>\n",
              "        <script src=\"https://cdn.plot.ly/plotly-latest.min.js\"></script>    \n",
              "            <div id=\"f7d982ca-3f83-49d8-8fa3-653f860cf44a\" class=\"plotly-graph-div\" style=\"height:525px; width:100%;\"></div>\n",
              "            <script type=\"text/javascript\">\n",
              "                \n",
              "                    window.PLOTLYENV=window.PLOTLYENV || {};\n",
              "                    \n",
              "                if (document.getElementById(\"f7d982ca-3f83-49d8-8fa3-653f860cf44a\")) {\n",
              "                    Plotly.newPlot(\n",
              "                        'f7d982ca-3f83-49d8-8fa3-653f860cf44a',\n",
              "                        [{\"colorbar\": {\"title\": {\"text\": \"Average Temperature(\\u3002C)\"}}, \"colorscale\": [[0.0, \"rgb(255,245,240)\"], [0.125, \"rgb(254,224,210)\"], [0.25, \"rgb(252,187,161)\"], [0.375, \"rgb(252,146,114)\"], [0.5, \"rgb(251,106,74)\"], [0.625, \"rgb(239,59,44)\"], [0.75, \"rgb(203,24,29)\"], [0.875, \"rgb(165,15,21)\"], [1.0, \"rgb(103,0,13)\"]], \"locationmode\": \"country names\", \"locations\": [\"China\", \"Italy\", \"US\", \"Spain\", \"Germany\", \"Iran\", \"France\", \"South Korea\", \"Switzerland\", \"United Kingdom\", \"Netherlands\", \"Austria\", \"Belgium\", \"Norway\", \"Canada\", \"Sweden\", \"Turkey\", \"Portugal\", \"Denmark\", \"Brazil\", \"Australia\", \"Japan\", \"Israel\", \"Malaysia\", \"Diamond Princess\", \"Czechia\", \"Ireland\", \"Luxembourg\", \"Chile\", \"Ecuador\", \"Pakistan\", \"Poland\", \"Greece\", \"Finland\", \"Romania\", \"Thailand\", \"Singapore\", \"Saudi Arabia\", \"Iceland\", \"Indonesia\", \"Qatar\", \"Russia\", \"Philippines\", \"India\", \"South Africa\", \"Slovenia\", \"Bahrain\", \"Estonia\", \"Egypt\", \"Peru\", \"Panama\", \"Iraq\", \"Mexico\", \"Croatia\", \"Argentina\", \"Colombia\", \"Lebanon\", \"United Arab Emirates\", \"Serbia\", \"Dominican Republic\", \"Kuwait\", \"Algeria\", \"Taiwan*\", \"Armenia\", \"San Marino\", \"Bulgaria\", \"Slovakia\", \"Lithuania\", \"Morocco\", \"Hungary\", \"Latvia\", \"New Zealand\", \"Costa Rica\", \"Vietnam\", \"Uruguay\", \"Andorra\", \"Bosnia and Herzegovina\", \"Jordan\", \"Ukraine\", \"North Macedonia\", \"Tunisia\", \"Albania\", \"Moldova\", \"Cyprus\", \"Brunei\", \"Burkina Faso\", \"Malta\", \"Azerbaijan\", \"Oman\", \"Kazakhstan\", \"Sri Lanka\", \"Belarus\", \"West Bank and Gaza\", \"Senegal\", \"Georgia\", \"Venezuela\", \"Cambodia\", \"Afghanistan\", \"Ghana\", \"Uzbekistan\", \"Cameroon\", \"Cote d'Ivoire\", \"Cuba\", \"Trinidad and Tobago\", \"Nigeria\", \"Mauritius\", \"Liechtenstein\", \"Honduras\", \"Montenegro\", \"Bolivia\", \"Congo (Kinshasa)\", \"Bangladesh\", \"Rwanda\", \"Paraguay\", \"Kyrgyzstan\", \"Kosovo\", \"Monaco\", \"Jamaica\", \"Kenya\", \"Guatemala\", \"Maldives\", \"Togo\", \"Barbados\", \"Madagascar\", \"Ethiopia\", \"Uganda\", \"Mongolia\", \"Tanzania\", \"Zambia\", \"Guyana\", \"Equatorial Guinea\", \"El Salvador\", \"Seychelles\", \"Djibouti\", \"Namibia\", \"Bahamas\", \"Suriname\", \"Haiti\", \"Niger\", \"Gabon\", \"Guinea\", \"Congo (Brazzaville)\", \"Eswatini\", \"Dominica\", \"Benin\", \"Mali\", \"Antigua and Barbuda\", \"Nepal\", \"Holy See\", \"Saint Lucia\", \"Mozambique\", \"Sudan\", \"Zimbabwe\", \"Eritrea\", \"Bhutan\", \"Cabo Verde\", \"Fiji\", \"Liberia\", \"Central African Republic\", \"Mauritania\", \"Angola\", \"Grenada\", \"Laos\", \"Syria\", \"Gambia\", \"Burma\", \"Nicaragua\", \"Chad\", \"Somalia\", \"Saint Vincent and the Grenadines\", \"Libya\", \"Belize\", \"Guinea-Bissau\", \"Saint Kitts and Nevis\", \"Papua New Guinea\", \"Timor-Leste\", \"MS Zaandam\"], \"text\": [2350949.0, 999590.0, 736329.0, 558667.0, 449486.0, 439847.0, 312319.0, 225471.0, 122574.0, 117563.0, 77526.0, 65004.0, 64335.0, 42362.0, 36090.0, 35404.0, 34418.0, 33068.0, 26928.0, 26831.0, 26759.0, 24223.0, 22612.0, 22244.0, 20544.0, 19675.0, 17163.0, 13043.0, 12476.0, 12267.0, 11922.0, 11858.0, 10871.0, 10612.0, 10380.0, 10305.0, 9471.0, 9250.0, 9077.0, 9029.0, 8818.0, 8051.0, 7823.0, 7604.0, 7494.0, 7051.0, 6683.0, 5890.0, 5774.0, 5687.0, 5147.0, 5011.0, 4834.0, 4747.0, 4655.0, 4428.0, 4261.0, 4240.0, 4180.0, 4130.0, 3599.0, 3523.0, 3249.0, 3085.0, 2995.0, 2818.0, 2741.0, 2595.0, 2585.0, 2573.0, 2503.0, 2401.0, 2310.0, 2099.0, 2082.0, 2041.0, 2038.0, 1879.0, 1871.0, 1855.0, 1770.0, 1766.0, 1677.0, 1597.0, 1432.0, 1394.0, 1382.0, 1357.0, 1329.0, 1291.0, 1206.0, 1161.0, 1120.0, 1107.0, 1043.0, 1026.0, 1009.0, 875.0, 833.0, 741.0, 735.0, 704.0, 664.0, 588.0, 577.0, 570.0, 564.0, 541.0, 502.0, 478.0, 463.0, 446.0, 434.0, 417.0, 386.0, 342.0, 332.0, 310.0, 261.0, 259.0, 254.0, 214.0, 188.0, 171.0, 154.0, 134.0, 126.0, 125.0, 124.0, 121.0, 106.0, 94.0, 93.0, 77.0, 75.0, 71.0, 71.0, 66.0, 65.0, 63.0, 60.0, 59.0, 57.0, 56.0, 53.0, 53.0, 47.0, 46.0, 46.0, 44.0, 40.0, 40.0, 38.0, 38.0, 38.0, 37.0, 37.0, 35.0, 35.0, 35.0, 34.0, 34.0, 33.0, 32.0, 27.0, 26.0, 24.0, 23.0, 21.0, 16.0, 15.0, 12.0, 10.0, 10.0, 10.0, 8.0, 4.0], \"type\": \"choropleth\", \"z\": [8.0, 10.0, 7.835, 11.0, 4.5, 11.5, 9.4, 6.75, 5.25, 6.666666666666667, 6.0]}],\n",
              "                        {\"template\": {\"data\": {\"bar\": [{\"error_x\": {\"color\": \"#2a3f5f\"}, \"error_y\": {\"color\": \"#2a3f5f\"}, \"marker\": {\"line\": {\"color\": \"#E5ECF6\", \"width\": 0.5}}, \"type\": \"bar\"}], \"barpolar\": [{\"marker\": {\"line\": {\"color\": \"#E5ECF6\", \"width\": 0.5}}, \"type\": \"barpolar\"}], \"carpet\": [{\"aaxis\": {\"endlinecolor\": \"#2a3f5f\", \"gridcolor\": \"white\", \"linecolor\": \"white\", \"minorgridcolor\": \"white\", \"startlinecolor\": \"#2a3f5f\"}, \"baxis\": {\"endlinecolor\": \"#2a3f5f\", \"gridcolor\": \"white\", \"linecolor\": \"white\", \"minorgridcolor\": \"white\", \"startlinecolor\": \"#2a3f5f\"}, \"type\": \"carpet\"}], \"choropleth\": [{\"colorbar\": {\"outlinewidth\": 0, \"ticks\": \"\"}, \"type\": \"choropleth\"}], \"contour\": [{\"colorbar\": {\"outlinewidth\": 0, \"ticks\": \"\"}, \"colorscale\": [[0.0, \"#0d0887\"], [0.1111111111111111, \"#46039f\"], [0.2222222222222222, \"#7201a8\"], [0.3333333333333333, \"#9c179e\"], [0.4444444444444444, \"#bd3786\"], [0.5555555555555556, \"#d8576b\"], [0.6666666666666666, \"#ed7953\"], [0.7777777777777778, \"#fb9f3a\"], [0.8888888888888888, \"#fdca26\"], [1.0, \"#f0f921\"]], \"type\": \"contour\"}], \"contourcarpet\": [{\"colorbar\": {\"outlinewidth\": 0, \"ticks\": \"\"}, \"type\": \"contourcarpet\"}], \"heatmap\": [{\"colorbar\": {\"outlinewidth\": 0, \"ticks\": \"\"}, \"colorscale\": [[0.0, \"#0d0887\"], [0.1111111111111111, \"#46039f\"], [0.2222222222222222, \"#7201a8\"], [0.3333333333333333, \"#9c179e\"], [0.4444444444444444, \"#bd3786\"], [0.5555555555555556, \"#d8576b\"], [0.6666666666666666, \"#ed7953\"], [0.7777777777777778, \"#fb9f3a\"], [0.8888888888888888, \"#fdca26\"], [1.0, \"#f0f921\"]], \"type\": \"heatmap\"}], \"heatmapgl\": [{\"colorbar\": {\"outlinewidth\": 0, \"ticks\": \"\"}, \"colorscale\": [[0.0, \"#0d0887\"], [0.1111111111111111, \"#46039f\"], [0.2222222222222222, \"#7201a8\"], [0.3333333333333333, \"#9c179e\"], [0.4444444444444444, \"#bd3786\"], [0.5555555555555556, \"#d8576b\"], [0.6666666666666666, \"#ed7953\"], [0.7777777777777778, \"#fb9f3a\"], [0.8888888888888888, \"#fdca26\"], [1.0, \"#f0f921\"]], \"type\": \"heatmapgl\"}], \"histogram\": [{\"marker\": {\"colorbar\": {\"outlinewidth\": 0, \"ticks\": \"\"}}, \"type\": \"histogram\"}], \"histogram2d\": [{\"colorbar\": {\"outlinewidth\": 0, \"ticks\": \"\"}, \"colorscale\": [[0.0, \"#0d0887\"], [0.1111111111111111, \"#46039f\"], [0.2222222222222222, \"#7201a8\"], [0.3333333333333333, \"#9c179e\"], [0.4444444444444444, \"#bd3786\"], [0.5555555555555556, \"#d8576b\"], [0.6666666666666666, \"#ed7953\"], [0.7777777777777778, \"#fb9f3a\"], [0.8888888888888888, \"#fdca26\"], [1.0, \"#f0f921\"]], \"type\": \"histogram2d\"}], \"histogram2dcontour\": [{\"colorbar\": {\"outlinewidth\": 0, \"ticks\": \"\"}, \"colorscale\": [[0.0, \"#0d0887\"], [0.1111111111111111, \"#46039f\"], [0.2222222222222222, \"#7201a8\"], [0.3333333333333333, \"#9c179e\"], [0.4444444444444444, \"#bd3786\"], [0.5555555555555556, \"#d8576b\"], [0.6666666666666666, \"#ed7953\"], [0.7777777777777778, \"#fb9f3a\"], [0.8888888888888888, \"#fdca26\"], [1.0, \"#f0f921\"]], \"type\": \"histogram2dcontour\"}], \"mesh3d\": [{\"colorbar\": {\"outlinewidth\": 0, \"ticks\": \"\"}, \"type\": \"mesh3d\"}], \"parcoords\": [{\"line\": {\"colorbar\": {\"outlinewidth\": 0, \"ticks\": \"\"}}, \"type\": \"parcoords\"}], \"pie\": [{\"automargin\": true, \"type\": \"pie\"}], \"scatter\": [{\"marker\": {\"colorbar\": {\"outlinewidth\": 0, \"ticks\": \"\"}}, \"type\": \"scatter\"}], \"scatter3d\": [{\"line\": {\"colorbar\": {\"outlinewidth\": 0, \"ticks\": \"\"}}, \"marker\": {\"colorbar\": {\"outlinewidth\": 0, \"ticks\": \"\"}}, \"type\": \"scatter3d\"}], \"scattercarpet\": [{\"marker\": {\"colorbar\": {\"outlinewidth\": 0, \"ticks\": \"\"}}, \"type\": \"scattercarpet\"}], \"scattergeo\": [{\"marker\": {\"colorbar\": {\"outlinewidth\": 0, \"ticks\": \"\"}}, \"type\": \"scattergeo\"}], \"scattergl\": [{\"marker\": {\"colorbar\": {\"outlinewidth\": 0, \"ticks\": \"\"}}, \"type\": \"scattergl\"}], \"scattermapbox\": [{\"marker\": {\"colorbar\": {\"outlinewidth\": 0, \"ticks\": \"\"}}, \"type\": \"scattermapbox\"}], \"scatterpolar\": [{\"marker\": {\"colorbar\": {\"outlinewidth\": 0, \"ticks\": \"\"}}, \"type\": \"scatterpolar\"}], \"scatterpolargl\": [{\"marker\": {\"colorbar\": {\"outlinewidth\": 0, \"ticks\": \"\"}}, \"type\": \"scatterpolargl\"}], \"scatterternary\": [{\"marker\": {\"colorbar\": {\"outlinewidth\": 0, \"ticks\": \"\"}}, \"type\": \"scatterternary\"}], \"surface\": [{\"colorbar\": {\"outlinewidth\": 0, \"ticks\": \"\"}, \"colorscale\": [[0.0, \"#0d0887\"], [0.1111111111111111, \"#46039f\"], [0.2222222222222222, \"#7201a8\"], [0.3333333333333333, \"#9c179e\"], [0.4444444444444444, \"#bd3786\"], [0.5555555555555556, \"#d8576b\"], [0.6666666666666666, \"#ed7953\"], [0.7777777777777778, \"#fb9f3a\"], [0.8888888888888888, \"#fdca26\"], [1.0, \"#f0f921\"]], \"type\": \"surface\"}], \"table\": [{\"cells\": {\"fill\": {\"color\": \"#EBF0F8\"}, \"line\": {\"color\": \"white\"}}, \"header\": {\"fill\": {\"color\": \"#C8D4E3\"}, \"line\": {\"color\": \"white\"}}, \"type\": \"table\"}]}, \"layout\": {\"annotationdefaults\": {\"arrowcolor\": \"#2a3f5f\", \"arrowhead\": 0, \"arrowwidth\": 1}, \"coloraxis\": {\"colorbar\": {\"outlinewidth\": 0, \"ticks\": \"\"}}, \"colorscale\": {\"diverging\": [[0, \"#8e0152\"], [0.1, \"#c51b7d\"], [0.2, \"#de77ae\"], [0.3, \"#f1b6da\"], [0.4, \"#fde0ef\"], [0.5, \"#f7f7f7\"], [0.6, \"#e6f5d0\"], [0.7, \"#b8e186\"], [0.8, \"#7fbc41\"], [0.9, \"#4d9221\"], [1, \"#276419\"]], \"sequential\": [[0.0, \"#0d0887\"], [0.1111111111111111, \"#46039f\"], [0.2222222222222222, \"#7201a8\"], [0.3333333333333333, \"#9c179e\"], [0.4444444444444444, \"#bd3786\"], [0.5555555555555556, \"#d8576b\"], [0.6666666666666666, \"#ed7953\"], [0.7777777777777778, \"#fb9f3a\"], [0.8888888888888888, \"#fdca26\"], [1.0, \"#f0f921\"]], \"sequentialminus\": [[0.0, \"#0d0887\"], [0.1111111111111111, \"#46039f\"], [0.2222222222222222, \"#7201a8\"], [0.3333333333333333, \"#9c179e\"], [0.4444444444444444, \"#bd3786\"], [0.5555555555555556, \"#d8576b\"], [0.6666666666666666, \"#ed7953\"], [0.7777777777777778, \"#fb9f3a\"], [0.8888888888888888, \"#fdca26\"], [1.0, \"#f0f921\"]]}, \"colorway\": [\"#636efa\", \"#EF553B\", \"#00cc96\", \"#ab63fa\", \"#FFA15A\", \"#19d3f3\", \"#FF6692\", \"#B6E880\", \"#FF97FF\", \"#FECB52\"], \"font\": {\"color\": \"#2a3f5f\"}, \"geo\": {\"bgcolor\": \"white\", \"lakecolor\": \"white\", \"landcolor\": \"#E5ECF6\", \"showlakes\": true, \"showland\": true, \"subunitcolor\": \"white\"}, \"hoverlabel\": {\"align\": \"left\"}, \"hovermode\": \"closest\", \"mapbox\": {\"style\": \"light\"}, \"paper_bgcolor\": \"white\", \"plot_bgcolor\": \"#E5ECF6\", \"polar\": {\"angularaxis\": {\"gridcolor\": \"white\", \"linecolor\": \"white\", \"ticks\": \"\"}, \"bgcolor\": \"#E5ECF6\", \"radialaxis\": {\"gridcolor\": \"white\", \"linecolor\": \"white\", \"ticks\": \"\"}}, \"scene\": {\"xaxis\": {\"backgroundcolor\": \"#E5ECF6\", \"gridcolor\": \"white\", \"gridwidth\": 2, \"linecolor\": \"white\", \"showbackground\": true, \"ticks\": \"\", \"zerolinecolor\": \"white\"}, \"yaxis\": {\"backgroundcolor\": \"#E5ECF6\", \"gridcolor\": \"white\", \"gridwidth\": 2, \"linecolor\": \"white\", \"showbackground\": true, \"ticks\": \"\", \"zerolinecolor\": \"white\"}, \"zaxis\": {\"backgroundcolor\": \"#E5ECF6\", \"gridcolor\": \"white\", \"gridwidth\": 2, \"linecolor\": \"white\", \"showbackground\": true, \"ticks\": \"\", \"zerolinecolor\": \"white\"}}, \"shapedefaults\": {\"line\": {\"color\": \"#2a3f5f\"}}, \"ternary\": {\"aaxis\": {\"gridcolor\": \"white\", \"linecolor\": \"white\", \"ticks\": \"\"}, \"baxis\": {\"gridcolor\": \"white\", \"linecolor\": \"white\", \"ticks\": \"\"}, \"bgcolor\": \"#E5ECF6\", \"caxis\": {\"gridcolor\": \"white\", \"linecolor\": \"white\", \"ticks\": \"\"}}, \"title\": {\"x\": 0.05}, \"xaxis\": {\"automargin\": true, \"gridcolor\": \"white\", \"linecolor\": \"white\", \"ticks\": \"\", \"title\": {\"standoff\": 15}, \"zerolinecolor\": \"white\", \"zerolinewidth\": 2}, \"yaxis\": {\"automargin\": true, \"gridcolor\": \"white\", \"linecolor\": \"white\", \"ticks\": \"\", \"title\": {\"standoff\": 15}, \"zerolinecolor\": \"white\", \"zerolinewidth\": 2}}}, \"title\": {\"text\": \"Confirmed Cases in Global Average Temperature Map\"}},\n",
              "                        {\"responsive\": true}\n",
              "                    ).then(function(){\n",
              "                            \n",
              "var gd = document.getElementById('f7d982ca-3f83-49d8-8fa3-653f860cf44a');\n",
              "var x = new MutationObserver(function (mutations, observer) {{\n",
              "        var display = window.getComputedStyle(gd).display;\n",
              "        if (!display || display === 'none') {{\n",
              "            console.log([gd, 'removed!']);\n",
              "            Plotly.purge(gd);\n",
              "            observer.disconnect();\n",
              "        }}\n",
              "}});\n",
              "\n",
              "// Listen for the removal of the full notebook cells\n",
              "var notebookContainer = gd.closest('#notebook-container');\n",
              "if (notebookContainer) {{\n",
              "    x.observe(notebookContainer, {childList: true});\n",
              "}}\n",
              "\n",
              "// Listen for the clearing of the current output cell\n",
              "var outputEl = gd.closest('.output');\n",
              "if (outputEl) {{\n",
              "    x.observe(outputEl, {childList: true});\n",
              "}}\n",
              "\n",
              "                        })\n",
              "                };\n",
              "                \n",
              "            </script>\n",
              "        </div>\n",
              "</body>\n",
              "</html>"
            ]
          },
          "metadata": {
            "tags": []
          }
        }
      ]
    },
    {
      "cell_type": "markdown",
      "metadata": {
        "id": "7ilHTjwRR0Ci",
        "colab_type": "text"
      },
      "source": [
        "label shows average temperature and confirmed number each country"
      ]
    }
  ]
}